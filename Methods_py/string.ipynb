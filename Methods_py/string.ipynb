{
 "cells": [
  {
   "cell_type": "markdown",
   "id": "f12a7d21",
   "metadata": {},
   "source": [
    "### Case Method\n",
    "#### upper(), lower(), capitalize(), title(), swapcase()"
   ]
  },
  {
   "cell_type": "code",
   "execution_count": 46,
   "id": "f75e53fb",
   "metadata": {},
   "outputs": [
    {
     "name": "stdout",
     "output_type": "stream",
     "text": [
      "Good morning\n",
      "GOOD MORNING\n",
      "good morning\n",
      "Good morning\n",
      "Good Morning\n",
      "gOOD MORNING\n"
     ]
    }
   ],
   "source": [
    "a = \"Good morning\"\n",
    "print(\n",
    "f'{a}\\n\\\n",
    "{a.upper()}\\n\\\n",
    "{a.lower()}\\n\\\n",
    "{a.capitalize()}\\n\\\n",
    "{a.title()}\\n\\\n",
    "{a.swapcase()}'\n",
    ")\n",
    "\n",
    "# (\\) for explicit line continuation\n",
    "# (\\n) for add output to next line"
   ]
  },
  {
   "cell_type": "code",
   "execution_count": 48,
   "id": "b0569972",
   "metadata": {},
   "outputs": [
    {
     "name": "stdout",
     "output_type": "stream",
     "text": [
      "Good morning\n",
      "GOOD MORNING\n",
      "good morning\n",
      "Good morning\n",
      "Good Morning\n",
      "gOOD MORNING\n"
     ]
    }
   ],
   "source": [
    "a = \"Good morning\"\n",
    "print(\n",
    "    f'{a}\\n'\n",
    "    f'{a.upper()}\\n'\n",
    "    f'{a.lower()}\\n'\n",
    "    f'{a.capitalize()}\\n'\n",
    "    f'{a.title()}\\n'\n",
    "    f'{a.swapcase()}'\n",
    ")\n",
    "# f'{x}' f'{y}'\tOne combined string\tClean, preferred for multi-line f-strings (without comma)"
   ]
  }
 ],
 "metadata": {
  "kernelspec": {
   "display_name": "Python 3",
   "language": "python",
   "name": "python3"
  },
  "language_info": {
   "codemirror_mode": {
    "name": "ipython",
    "version": 3
   },
   "file_extension": ".py",
   "mimetype": "text/x-python",
   "name": "python",
   "nbconvert_exporter": "python",
   "pygments_lexer": "ipython3",
   "version": "3.13.5"
  }
 },
 "nbformat": 4,
 "nbformat_minor": 5
}
