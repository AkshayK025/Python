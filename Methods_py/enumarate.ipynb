{
 "cells": [
  {
   "cell_type": "code",
   "execution_count": 2,
   "id": "43c7d94f",
   "metadata": {},
   "outputs": [],
   "source": [
    "fruits = [\"apple\", \"banana\", \"cherry\", \"date\"]\n",
    "\n",
    "# Use enumerate to print:\n",
    "# 1. apple\n",
    "# 2. banana\n",
    "# 3. cherry\n",
    "# 4. date\n"
   ]
  },
  {
   "cell_type": "code",
   "execution_count": 7,
   "id": "763b222b",
   "metadata": {},
   "outputs": [
    {
     "name": "stdout",
     "output_type": "stream",
     "text": [
      "1 APPLE\n",
      "2 BANANA\n",
      "3 CHERRY\n",
      "4 DATE\n"
     ]
    }
   ],
   "source": [
    "for i,fruit in enumerate(fruits,1):\n",
    "    print(f'{i} {fruit.upper()}')"
   ]
  },
  {
   "cell_type": "code",
   "execution_count": 8,
   "id": "927d2c24",
   "metadata": {},
   "outputs": [],
   "source": [
    "colors = [\"red\", \"green\", \"blue\", \"yellow\"]\n",
    "\n",
    "# Use enumerate to find and print the index of \"blue\"\n",
    "# Expected output: \"blue is at index 2\"\n"
   ]
  },
  {
   "cell_type": "code",
   "execution_count": null,
   "id": "5a8de25e",
   "metadata": {},
   "outputs": [
    {
     "name": "stdout",
     "output_type": "stream",
     "text": [
      "blue is at index 2\n"
     ]
    }
   ],
   "source": [
    "for i,colour in enumerate(colors):\n",
    "    if colour==\"blue\":\n",
    "        print(f\"{colour} is at index {i}\")"
   ]
  },
  {
   "cell_type": "code",
   "execution_count": 13,
   "id": "920a7621",
   "metadata": {},
   "outputs": [],
   "source": [
    "names = [\"Alice\", \"Bob\", \"Charlie\"]\n",
    "\n",
    "# Use enumerate to create a new list where each name is prefixed\n",
    "# with its number starting from 1, like:\n",
    "# [\"1. Alice\", \"2. Bob\", \"3. Charlie\"]\n",
    "\n",
    "# Print the new list\n"
   ]
  },
  {
   "cell_type": "code",
   "execution_count": 30,
   "id": "52e744cc",
   "metadata": {},
   "outputs": [
    {
     "name": "stdout",
     "output_type": "stream",
     "text": [
      "1.Alice,  2.Bob,  3.Charlie,  "
     ]
    }
   ],
   "source": [
    "for i,name in enumerate(names,1):\n",
    "    print(str(f\"{i}.{name},\"),\" \",end=\"\")"
   ]
  },
  {
   "cell_type": "code",
   "execution_count": null,
   "id": "7fc398fd",
   "metadata": {},
   "outputs": [
    {
     "name": "stdout",
     "output_type": "stream",
     "text": [
      "['1. Alice', '2. Bob', '3. Charlie']\n"
     ]
    }
   ],
   "source": [
    "names = [\"Alice\", \"Bob\", \"Charlie\"]\n",
    "\n",
    "numbered_names = [f\"{i}. {name}\" for i, name in enumerate(names, 1)]\n",
    "\n",
    "print(numbered_names)\n"
   ]
  },
  {
   "cell_type": "code",
   "execution_count": 32,
   "id": "24f2b268",
   "metadata": {},
   "outputs": [
    {
     "name": "stdout",
     "output_type": "stream",
     "text": [
      "1.Alice, 2.Bob, 3.Charlie"
     ]
    }
   ],
   "source": [
    "for i, name in enumerate(names, 1):\n",
    "    end_char = \", \" if i < len(names) else \"\"\n",
    "    print(f\"{i}.{name}{end_char}\", end=\"\")\n"
   ]
  },
  {
   "cell_type": "markdown",
   "id": "8d292856",
   "metadata": {},
   "source": [
    "#### Problem 4\n",
    "##### Sum values with odd indices"
   ]
  },
  {
   "cell_type": "code",
   "execution_count": 33,
   "id": "d1f738bc",
   "metadata": {},
   "outputs": [],
   "source": [
    "numbers = [10, 20, 30, 40, 50, 60]\n",
    "\n",
    "# Use enumerate to sum all numbers with odd index (1, 3, 5)\n",
    "# Print the total sum\n"
   ]
  },
  {
   "cell_type": "code",
   "execution_count": 38,
   "id": "03af90e9",
   "metadata": {},
   "outputs": [
    {
     "name": "stdout",
     "output_type": "stream",
     "text": [
      "90\n"
     ]
    }
   ],
   "source": [
    "oddsum=0\n",
    "for i,num in enumerate(numbers,1):\n",
    "    if i % 2 != 0:\n",
    "        oddsum += num\n",
    "print(oddsum)\n"
   ]
  },
  {
   "cell_type": "code",
   "execution_count": 39,
   "id": "ab7a1ec6",
   "metadata": {},
   "outputs": [],
   "source": [
    "grades = [\"A\", \"B\", \"C\", \"D\", \"F\"]\n",
    "\n",
    "# Use enumerate to replace all grades with index >= 3 to \"F\"\n",
    "# Then print the modified list\n"
   ]
  },
  {
   "cell_type": "code",
   "execution_count": 43,
   "id": "97fc8d37",
   "metadata": {},
   "outputs": [
    {
     "name": "stdout",
     "output_type": "stream",
     "text": [
      "['A', 'B', 'C', 'F', 'F']\n"
     ]
    }
   ],
   "source": [
    "for i, grade in enumerate(grades):\n",
    "    if i >= 3:\n",
    "        grades[i] = \"F\"\n",
    "\n",
    "print(grades)\n"
   ]
  },
  {
   "cell_type": "code",
   "execution_count": null,
   "id": "c9bceefe",
   "metadata": {},
   "outputs": [],
   "source": []
  }
 ],
 "metadata": {
  "kernelspec": {
   "display_name": "Python 3",
   "language": "python",
   "name": "python3"
  },
  "language_info": {
   "codemirror_mode": {
    "name": "ipython",
    "version": 3
   },
   "file_extension": ".py",
   "mimetype": "text/x-python",
   "name": "python",
   "nbconvert_exporter": "python",
   "pygments_lexer": "ipython3",
   "version": "3.13.7"
  }
 },
 "nbformat": 4,
 "nbformat_minor": 5
}
