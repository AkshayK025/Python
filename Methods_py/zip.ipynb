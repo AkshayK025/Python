{
 "cells": [
  {
   "cell_type": "markdown",
   "id": "bd71052e",
   "metadata": {},
   "source": [
    "### zip()\n"
   ]
  },
  {
   "cell_type": "markdown",
   "id": "44bff672",
   "metadata": {},
   "source": [
    "##### Problem 1: Pairing Items"
   ]
  },
  {
   "cell_type": "code",
   "execution_count": 2,
   "id": "f4815a6a",
   "metadata": {},
   "outputs": [],
   "source": [
    "students = ['Alice', 'Bob', 'Charlie']\n",
    "grades = [85, 92, 78]\n",
    "#Use zip() to print each student with their grade."
   ]
  },
  {
   "cell_type": "code",
   "execution_count": 5,
   "id": "7dab1517",
   "metadata": {},
   "outputs": [
    {
     "name": "stdout",
     "output_type": "stream",
     "text": [
      "Alice has grade 85\n",
      "Bob has grade 92\n",
      "Charlie has grade 78\n"
     ]
    }
   ],
   "source": [
    "for name,grade in zip(students,grades):\n",
    "    print(f'{name} has grade {grade}')"
   ]
  },
  {
   "cell_type": "markdown",
   "id": "da95dbf9",
   "metadata": {},
   "source": [
    "#### Creating a Dictionary"
   ]
  },
  {
   "cell_type": "code",
   "execution_count": 6,
   "id": "f892956b",
   "metadata": {},
   "outputs": [],
   "source": [
    "keys = ['id', 'name', 'age']\n",
    "values = [101, 'John', 25]\n",
    "# Creat a Dictionary using zip()"
   ]
  },
  {
   "cell_type": "code",
   "execution_count": 9,
   "id": "146facb9",
   "metadata": {},
   "outputs": [
    {
     "name": "stdout",
     "output_type": "stream",
     "text": [
      "{'id': 101, 'name': 'John', 'age': 25}\n"
     ]
    }
   ],
   "source": [
    "dict1 = dict(zip(keys,values))\n",
    "print(dict1)"
   ]
  },
  {
   "cell_type": "markdown",
   "id": "1706b6f3",
   "metadata": {},
   "source": [
    "##### Transposing a Matrix"
   ]
  },
  {
   "cell_type": "code",
   "execution_count": null,
   "id": "8cf6ddd6",
   "metadata": {},
   "outputs": [],
   "source": [
    "matrix = [\n",
    "    [1, 2, 3],\n",
    "    [4, 5, 6]\n",
    "]\n",
    "#Use zip() to transpose the matrix.\n",
    "#Hint: Use unpacking: zip(*matrix)"
   ]
  },
  {
   "cell_type": "code",
   "execution_count": 16,
   "id": "6ac9bcb5",
   "metadata": {},
   "outputs": [
    {
     "name": "stdout",
     "output_type": "stream",
     "text": [
      "[(1, 4), (2, 5), (3, 6)]\n"
     ]
    }
   ],
   "source": [
    "print(list(zip(matrix[0],matrix[1])))"
   ]
  }
 ],
 "metadata": {
  "kernelspec": {
   "display_name": "Python 3",
   "language": "python",
   "name": "python3"
  },
  "language_info": {
   "codemirror_mode": {
    "name": "ipython",
    "version": 3
   },
   "file_extension": ".py",
   "mimetype": "text/x-python",
   "name": "python",
   "nbconvert_exporter": "python",
   "pygments_lexer": "ipython3",
   "version": "3.13.7"
  }
 },
 "nbformat": 4,
 "nbformat_minor": 5
}
