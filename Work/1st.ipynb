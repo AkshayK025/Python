{
 "cells": [
  {
   "cell_type": "code",
   "execution_count": null,
   "id": "f147d762",
   "metadata": {},
   "outputs": [],
   "source": [
    "# ! pip list"
   ]
  },
  {
   "cell_type": "code",
   "execution_count": 1,
   "id": "6c105481",
   "metadata": {},
   "outputs": [],
   "source": [
    "import pandas as pd\n",
    "import numpy as np"
   ]
  },
  {
   "cell_type": "code",
   "execution_count": null,
   "id": "30853588",
   "metadata": {},
   "outputs": [],
   "source": [
    "#we can assign function to variable\n",
    "fun = print\n",
    "fun('Akshay')"
   ]
  },
  {
   "cell_type": "code",
   "execution_count": null,
   "id": "860eee00",
   "metadata": {},
   "outputs": [],
   "source": [
    "a = 'Sanjay'\n",
    "fun(a)"
   ]
  },
  {
   "cell_type": "code",
   "execution_count": null,
   "id": "bd86da55",
   "metadata": {},
   "outputs": [],
   "source": [
    "#here are location of variable \n",
    "id(a)"
   ]
  },
  {
   "cell_type": "code",
   "execution_count": null,
   "id": "a1576402",
   "metadata": {},
   "outputs": [],
   "source": [
    "type(print)"
   ]
  },
  {
   "cell_type": "code",
   "execution_count": null,
   "id": "577a1bb8",
   "metadata": {},
   "outputs": [],
   "source": [
    "Name = 'Akshay'\n",
    "midname = 'Sanjay'\n",
    "Lastname = 'Kanchan'\n",
    "print(f'Name:       {Name}\\nSurname:    {midname}\\nLastname:    {Lastname}')"
   ]
  },
  {
   "cell_type": "code",
   "execution_count": null,
   "id": "0bac714a",
   "metadata": {},
   "outputs": [],
   "source": [
    "def fullname(name,midname,lastname):\n",
    "    return print(f'Name:       {name}\\nSurname:    {midname}\\nLastname:    {lastname}')\n",
    "\n",
    "\n",
    "fullname('aks','san','kan')"
   ]
  },
  {
   "cell_type": "code",
   "execution_count": null,
   "id": "d12a3b19",
   "metadata": {},
   "outputs": [],
   "source": [
    "import pandas as pd"
   ]
  },
  {
   "cell_type": "code",
   "execution_count": 28,
   "id": "cb6532f5",
   "metadata": {},
   "outputs": [
    {
     "data": {
      "text/plain": [
       "'A k s h a y   K a n c h a n'"
      ]
     },
     "execution_count": 28,
     "metadata": {},
     "output_type": "execute_result"
    }
   ],
   "source": [
    "a = 'Akshay Kanchan'\n",
    "' '.join(a)\n"
   ]
  },
  {
   "cell_type": "code",
   "execution_count": 15,
   "id": "2b3484d9",
   "metadata": {},
   "outputs": [
    {
     "name": "stdout",
     "output_type": "stream",
     "text": [
      "<class 'set'> {1, 2, 3, 4, 5, 6, 7, 8, 9}\n"
     ]
    }
   ],
   "source": [
    "a=set(range(1,10))\n",
    "print(type(a),a)"
   ]
  },
  {
   "cell_type": "code",
   "execution_count": 22,
   "id": "9ab7a5cf",
   "metadata": {},
   "outputs": [
    {
     "name": "stdout",
     "output_type": "stream",
     "text": [
      "0 1 2 3 4 5 6 7 8 9 "
     ]
    }
   ],
   "source": [
    "for i in range(10):\n",
    "    print(i,\"\",end=\"\")"
   ]
  },
  {
   "cell_type": "code",
   "execution_count": null,
   "id": "6d80d6bc",
   "metadata": {},
   "outputs": [
    {
     "name": "stdout",
     "output_type": "stream",
     "text": [
      "1 2 3 4 5 6 7 8 9 "
     ]
    }
   ],
   "source": [
    "i = 1\n",
    "while i<10:\n",
    "    print(i,'',end=\"\")\n",
    "    i += 1\n",
    "   "
   ]
  },
  {
   "cell_type": "code",
   "execution_count": 36,
   "id": "9b7cfb08",
   "metadata": {},
   "outputs": [
    {
     "name": "stdout",
     "output_type": "stream",
     "text": [
      "<class 'list'>  [2, 4, 6, 8, 10, 12, 14, 16, 18, 20]\n"
     ]
    }
   ],
   "source": [
    "list =[x*2 for x in range(1,11)]\n",
    "print(type(list),\"\",list)"
   ]
  },
  {
   "cell_type": "code",
   "execution_count": 42,
   "id": "30a28c02",
   "metadata": {},
   "outputs": [
    {
     "data": {
      "text/plain": [
       "[2, 4, 6, 8, 10, 12, 14, 16, 18, 20]"
      ]
     },
     "execution_count": 42,
     "metadata": {},
     "output_type": "execute_result"
    }
   ],
   "source": [
    "list1 = [x for x in range(1,21) if x%2==0 ]\n",
    "list1 "
   ]
  },
  {
   "cell_type": "code",
   "execution_count": 51,
   "id": "49ca9f81",
   "metadata": {},
   "outputs": [
    {
     "data": {
      "text/plain": [
       "6"
      ]
     },
     "execution_count": 51,
     "metadata": {},
     "output_type": "execute_result"
    }
   ],
   "source": [
    "(lambda x: x*2)(3)"
   ]
  },
  {
   "cell_type": "code",
   "execution_count": 55,
   "id": "a9a39634",
   "metadata": {},
   "outputs": [
    {
     "data": {
      "text/plain": [
       "11"
      ]
     },
     "execution_count": 55,
     "metadata": {},
     "output_type": "execute_result"
    }
   ],
   "source": [
    "mul2 = lambda x,y : x*2+1\n",
    "mul2(5,1)"
   ]
  },
  {
   "cell_type": "code",
   "execution_count": null,
   "id": "64a87906",
   "metadata": {},
   "outputs": [],
   "source": []
  }
 ],
 "metadata": {
  "kernelspec": {
   "display_name": "Python 3",
   "language": "python",
   "name": "python3"
  },
  "language_info": {
   "codemirror_mode": {
    "name": "ipython",
    "version": 3
   },
   "file_extension": ".py",
   "mimetype": "text/x-python",
   "name": "python",
   "nbconvert_exporter": "python",
   "pygments_lexer": "ipython3",
   "version": "3.13.1"
  }
 },
 "nbformat": 4,
 "nbformat_minor": 5
}
