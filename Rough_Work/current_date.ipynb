{
 "cells": [
  {
   "cell_type": "code",
   "execution_count": null,
   "id": "6271478b",
   "metadata": {},
   "outputs": [],
   "source": [
    "from sqlalchemy import create_engine\n",
    "import pandas as pd\n",
    "import numpy as np\n",
    "pd.set_option('display.max_columns',50)\n",
    "\n",
    "from dotenv import load_dotenv\n",
    "import os\n",
    "load_dotenv() \n",
    "user = os.getenv(\"DB_USER\")\n",
    "password = os.getenv(\"DB_PASSWORD\")\n",
    "host = os.getenv(\"DB_HOST\")\n",
    "port = os.getenv(\"DB_PORT\")\n",
    "database = os.getenv(\"DB_NAME\")\n",
    "engine = create_engine(f\"mysql+pymysql://{user}:{password}@{host}:{port}/{database}\")\n",
    "query =\"select * from ppm;\"\n",
    "df = pd.read_sql(query, engine)"
   ]
  },
  {
   "cell_type": "code",
   "execution_count": 48,
   "id": "7536e9ad",
   "metadata": {},
   "outputs": [],
   "source": [
    "from datetime import datetime, timedelta\n",
    "\n",
    "def replace_dates_with_last_150_days(df, date_column='Date'):\n",
    "    # Get the 150 most recent dates from today going backward\n",
    "    today = datetime.today().date()\n",
    "    new_dates = pd.date_range(end=today, periods=150).date[::-1]  # Reverse to go backwards\n",
    "\n",
    "    # Get the 150 unique old dates (sorted to keep order consistent)\n",
    "    unique_old_dates = sorted(df['Date'].dropna().unique())[:150]\n",
    "\n",
    "    # Create a mapping from old dates to new dates\n",
    "    date_map = dict(zip(unique_old_dates, new_dates))\n",
    "\n",
    "    # Replace the old dates with the new ones\n",
    "    df['Date'] = df['Date'].map(date_map).fillna(df['Date'])  # keep non-mapped as is\n",
    "\n",
    "    return df\n",
    "\n"
   ]
  },
  {
   "cell_type": "code",
   "execution_count": null,
   "id": "3df66a22",
   "metadata": {},
   "outputs": [],
   "source": [
    "#use function to update old date to new dates\n",
    "df = replace_dates_with_last_150_days(df, 'Date') \n"
   ]
  },
  {
   "cell_type": "code",
   "execution_count": null,
   "id": "3d1386dc",
   "metadata": {},
   "outputs": [
    {
     "data": {
      "text/plain": [
       "min    2025-01-13\n",
       "max    2025-06-11\n",
       "Name: Date, dtype: object"
      ]
     },
     "execution_count": 50,
     "metadata": {},
     "output_type": "execute_result"
    }
   ],
   "source": [
    "#check updated dates\n",
    "df['Date'].agg(['min','max'])"
   ]
  },
  {
   "cell_type": "code",
   "execution_count": 52,
   "id": "7ffce4ae",
   "metadata": {},
   "outputs": [],
   "source": [
    "user = os.getenv(\"DB_USER\")\n",
    "password = os.getenv(\"DB_PASSWORD\")\n",
    "host = os.getenv(\"DB_HOST\")\n",
    "port = os.getenv(\"DB_PORT\")\n",
    "database = 'last_150days_production'\n",
    "engine = create_engine(f\"mysql+pymysql://{user}:{password}@{host}:{port}/{database}\")\n"
   ]
  },
  {
   "cell_type": "code",
   "execution_count": 53,
   "id": "07dfdd32",
   "metadata": {},
   "outputs": [
    {
     "data": {
      "text/plain": [
       "3180"
      ]
     },
     "execution_count": 53,
     "metadata": {},
     "output_type": "execute_result"
    }
   ],
   "source": [
    "df.to_sql(\"production\", con=engine, if_exists='replace', index=False)"
   ]
  }
 ],
 "metadata": {
  "kernelspec": {
   "display_name": "Python 3",
   "language": "python",
   "name": "python3"
  },
  "language_info": {
   "codemirror_mode": {
    "name": "ipython",
    "version": 3
   },
   "file_extension": ".py",
   "mimetype": "text/x-python",
   "name": "python",
   "nbconvert_exporter": "python",
   "pygments_lexer": "ipython3",
   "version": "3.13.1"
  }
 },
 "nbformat": 4,
 "nbformat_minor": 5
}
