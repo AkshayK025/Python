{
 "cells": [
  {
   "cell_type": "code",
   "execution_count": 1,
   "id": "8fb9a830",
   "metadata": {},
   "outputs": [],
   "source": [
    "from sqlalchemy import create_engine"
   ]
  },
  {
   "cell_type": "code",
   "execution_count": 2,
   "id": "02ae7f99",
   "metadata": {},
   "outputs": [],
   "source": [
    "user = 'root'\n",
    "password = '0425'\n",
    "host = '127.0.0.1'         \n",
    "port = '3306'              \n",
    "database = 'project1'\n",
    "\n",
    "engine = create_engine(f\"mysql+pymysql://{user}:{password}@{host}:{port}/{database}\")"
   ]
  }
 ],
 "metadata": {
  "kernelspec": {
   "display_name": "Python 3",
   "language": "python",
   "name": "python3"
  },
  "language_info": {
   "codemirror_mode": {
    "name": "ipython",
    "version": 3
   },
   "file_extension": ".py",
   "mimetype": "text/x-python",
   "name": "python",
   "nbconvert_exporter": "python",
   "pygments_lexer": "ipython3",
   "version": "3.13.1"
  }
 },
 "nbformat": 4,
 "nbformat_minor": 5
}
