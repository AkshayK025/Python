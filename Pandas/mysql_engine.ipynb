{
 "cells": [
  {
   "cell_type": "code",
   "execution_count": 11,
   "id": "f0fae534",
   "metadata": {},
   "outputs": [
    {
     "name": "stderr",
     "output_type": "stream",
     "text": [
      "'pip' is not recognized as an internal or external command,\n",
      "operable program or batch file.\n"
     ]
    }
   ],
   "source": [
    "!pip show sqlalchemy"
   ]
  },
  {
   "cell_type": "code",
   "execution_count": 12,
   "id": "32f4234a",
   "metadata": {},
   "outputs": [],
   "source": [
    "from sqlalchemy import create_engine\n",
    "import pandas as pd\n"
   ]
  },
  {
   "cell_type": "code",
   "execution_count": 13,
   "id": "87855a0d",
   "metadata": {},
   "outputs": [
    {
     "data": {
      "text/plain": [
       "True"
      ]
     },
     "execution_count": 13,
     "metadata": {},
     "output_type": "execute_result"
    }
   ],
   "source": [
    "from dotenv import load_dotenv\n",
    "import os\n",
    "load_dotenv(override=True) \n"
   ]
  },
  {
   "cell_type": "code",
   "execution_count": 14,
   "id": "562d89dc",
   "metadata": {},
   "outputs": [],
   "source": [
    "# Your MySQL connection details\n",
    "user = os.getenv('DB_USER')\n",
    "password = os.getenv('DB_PASSWORD')\n",
    "host = os.getenv('DB_HOST')        # or your server address\n",
    "port = os.getenv('DB_PORT')            # default MySQL port\n",
    "database = os.getenv('DB_NAME')\n",
    "\n",
    "# Create SQLAlchemy engine\n",
    "engine = create_engine(f'mysql+pymysql://{user}:{password}@{host}:{port}/{database}')\n",
    "\n",
    "\n"
   ]
  },
  {
   "cell_type": "code",
   "execution_count": 15,
   "id": "7eb5e151",
   "metadata": {},
   "outputs": [],
   "source": [
    "path = os.getenv('Path')\n",
    "df = pd.read_csv(rf'{path}\\concatall.csv')"
   ]
  },
  {
   "cell_type": "markdown",
   "id": "800bb20f",
   "metadata": {},
   "source": [
    "##### 🔷 check datatypes and correct required"
   ]
  },
  {
   "cell_type": "code",
   "execution_count": 16,
   "id": "2142d094",
   "metadata": {},
   "outputs": [
    {
     "data": {
      "text/plain": [
       "Date             object\n",
       "Shift            object\n",
       "Part_No           int64\n",
       "Production        int64\n",
       "Dent_Defect       int64\n",
       "Paint_Defect      int64\n",
       "Screen Defect     int64\n",
       "Seam_leak         int64\n",
       "Crimp_leak        int64\n",
       "Casting_leak      int64\n",
       "dtype: object"
      ]
     },
     "execution_count": 16,
     "metadata": {},
     "output_type": "execute_result"
    }
   ],
   "source": [
    "df.dtypes"
   ]
  },
  {
   "cell_type": "code",
   "execution_count": 17,
   "id": "66318c8f",
   "metadata": {},
   "outputs": [],
   "source": [
    "df[['Shift','Part_No']] = df[['Shift','Part_No']].astype('string')\n"
   ]
  },
  {
   "cell_type": "code",
   "execution_count": 18,
   "id": "a411331a",
   "metadata": {},
   "outputs": [],
   "source": [
    "df['Date']=pd.to_datetime(df['Date'])"
   ]
  },
  {
   "cell_type": "markdown",
   "id": "8e6a0a98",
   "metadata": {},
   "source": [
    "##### 🔷 Export DataFrame to MySQL table"
   ]
  },
  {
   "cell_type": "code",
   "execution_count": 19,
   "id": "132d3a8e",
   "metadata": {},
   "outputs": [
    {
     "data": {
      "text/plain": [
       "6394"
      ]
     },
     "execution_count": 19,
     "metadata": {},
     "output_type": "execute_result"
    }
   ],
   "source": [
    "df.to_sql('concatall', con=engine, if_exists='replace', index=False)"
   ]
  }
 ],
 "metadata": {
  "kernelspec": {
   "display_name": "Python 3",
   "language": "python",
   "name": "python3"
  },
  "language_info": {
   "codemirror_mode": {
    "name": "ipython",
    "version": 3
   },
   "file_extension": ".py",
   "mimetype": "text/x-python",
   "name": "python",
   "nbconvert_exporter": "python",
   "pygments_lexer": "ipython3",
   "version": "3.13.7"
  }
 },
 "nbformat": 4,
 "nbformat_minor": 5
}
