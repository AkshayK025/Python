{
 "cells": [
  {
   "cell_type": "code",
   "execution_count": 1,
   "id": "f0fae534",
   "metadata": {},
   "outputs": [
    {
     "name": "stdout",
     "output_type": "stream",
     "text": [
      "Name: SQLAlchemy\n",
      "Version: 2.0.42\n",
      "Summary: Database Abstraction Library\n",
      "Home-page: https://www.sqlalchemy.org\n",
      "Author: Mike Bayer\n",
      "Author-email: mike_mp@zzzcomputing.com\n",
      "License: MIT\n",
      "Location: C:\\Users\\aksha\\AppData\\Local\\Packages\\PythonSoftwareFoundation.Python.3.13_qbz5n2kfra8p0\\LocalCache\\local-packages\\Python313\\site-packages\n",
      "Requires: greenlet, typing-extensions\n",
      "Required-by: \n"
     ]
    }
   ],
   "source": [
    "!pip show sqlalchemy"
   ]
  },
  {
   "cell_type": "code",
   "execution_count": 2,
   "id": "32f4234a",
   "metadata": {},
   "outputs": [],
   "source": [
    "from sqlalchemy import create_engine\n",
    "import pandas as pd\n"
   ]
  },
  {
   "cell_type": "code",
   "execution_count": 3,
   "id": "87855a0d",
   "metadata": {},
   "outputs": [
    {
     "data": {
      "text/plain": [
       "True"
      ]
     },
     "execution_count": 3,
     "metadata": {},
     "output_type": "execute_result"
    }
   ],
   "source": [
    "from dotenv import load_dotenv\n",
    "import os\n",
    "load_dotenv(override=True) \n"
   ]
  },
  {
   "cell_type": "code",
   "execution_count": 4,
   "id": "562d89dc",
   "metadata": {},
   "outputs": [],
   "source": [
    "# Your MySQL connection details\n",
    "user = os.getenv('DB_USER')\n",
    "password = os.getenv('DB_PASSWORD')\n",
    "host = os.getenv('DB_HOST')        # or your server address\n",
    "port = os.getenv('DB_PORT')            # default MySQL port\n",
    "database = os.getenv('DB_NAME')\n",
    "\n",
    "# Create SQLAlchemy engine\n",
    "engine = create_engine(f'mysql+pymysql://{user}:{password}@{host}:{port}/{database}')\n",
    "\n",
    "\n"
   ]
  },
  {
   "cell_type": "code",
   "execution_count": 5,
   "id": "7eb5e151",
   "metadata": {},
   "outputs": [],
   "source": [
    "path = os.getenv('Path')\n",
    "df = pd.read_csv(rf'{path}\\concatall.csv')"
   ]
  },
  {
   "cell_type": "markdown",
   "id": "800bb20f",
   "metadata": {},
   "source": [
    "##### 🔷 check datatypes and correct required"
   ]
  },
  {
   "cell_type": "code",
   "execution_count": 6,
   "id": "2142d094",
   "metadata": {},
   "outputs": [
    {
     "data": {
      "text/plain": [
       "Date             object\n",
       "Shift            object\n",
       "Part_No           int64\n",
       "Production        int64\n",
       "Dent_Defect       int64\n",
       "Paint_Defect      int64\n",
       "Screen Defect     int64\n",
       "Seam_leak         int64\n",
       "Crimp_leak        int64\n",
       "Casting_leak      int64\n",
       "dtype: object"
      ]
     },
     "execution_count": 6,
     "metadata": {},
     "output_type": "execute_result"
    }
   ],
   "source": [
    "df.dtypes"
   ]
  },
  {
   "cell_type": "code",
   "execution_count": 7,
   "id": "66318c8f",
   "metadata": {},
   "outputs": [],
   "source": [
    "df[['Shift','Part_No']] = df[['Shift','Part_No']].astype('string')\n"
   ]
  },
  {
   "cell_type": "code",
   "execution_count": 8,
   "id": "a411331a",
   "metadata": {},
   "outputs": [],
   "source": [
    "df['Date']=pd.to_datetime(df['Date'])"
   ]
  },
  {
   "cell_type": "markdown",
   "id": "8e6a0a98",
   "metadata": {},
   "source": [
    "##### 🔷 Export DataFrame to MySQL table"
   ]
  },
  {
   "cell_type": "code",
   "execution_count": 10,
   "id": "faec7daa",
   "metadata": {},
   "outputs": [
    {
     "data": {
      "text/plain": [
       "Date             datetime64[ns]\n",
       "Shift            string[python]\n",
       "Part_No          string[python]\n",
       "Production                int64\n",
       "Dent_Defect               int64\n",
       "Paint_Defect              int64\n",
       "Screen Defect             int64\n",
       "Seam_leak                 int64\n",
       "Crimp_leak                int64\n",
       "Casting_leak              int64\n",
       "dtype: object"
      ]
     },
     "execution_count": 10,
     "metadata": {},
     "output_type": "execute_result"
    }
   ],
   "source": [
    "df.dtypes"
   ]
  },
  {
   "cell_type": "code",
   "execution_count": 9,
   "id": "132d3a8e",
   "metadata": {},
   "outputs": [
    {
     "data": {
      "text/plain": [
       "6394"
      ]
     },
     "execution_count": 9,
     "metadata": {},
     "output_type": "execute_result"
    }
   ],
   "source": [
    "df.to_sql('concatall', con=engine, if_exists='replace', index=False)"
   ]
  }
 ],
 "metadata": {
  "kernelspec": {
   "display_name": "Python 3",
   "language": "python",
   "name": "python3"
  },
  "language_info": {
   "codemirror_mode": {
    "name": "ipython",
    "version": 3
   },
   "file_extension": ".py",
   "mimetype": "text/x-python",
   "name": "python",
   "nbconvert_exporter": "python",
   "pygments_lexer": "ipython3",
   "version": "3.13.7"
  }
 },
 "nbformat": 4,
 "nbformat_minor": 5
}
