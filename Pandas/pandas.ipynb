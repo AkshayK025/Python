{
 "cells": [
  {
   "cell_type": "markdown",
   "id": "84b08787",
   "metadata": {},
   "source": [
    "#### 🔷 Loads settings from a .env file and saves them into variables for use in the program."
   ]
  },
  {
   "cell_type": "code",
   "execution_count": null,
   "id": "61938d5c",
   "metadata": {},
   "outputs": [],
   "source": [
    "from dotenv import load_dotenv\n",
    "import os\n",
    "load_dotenv(override=True) \n",
    "jan = os.getenv(\"Jan\")\n",
    "feb = os.getenv(\"Feb\")\n",
    "mar = os.getenv(\"Mar\")\n",
    "apr= os.getenv(\"Apr\")\n",
    "may = os.getenv(\"May\")\n",
    "jun = os.getenv(\"Jun\")\n",
    "jul = os.getenv(\"Jul\")\n",
    "aug = os.getenv(\"Aug\")\n",
    "sep = os.getenv(\"Sep\")\n",
    "oct = os.getenv(\"Oct\")\n",
    "nov = os.getenv(\"Nov\")\n",
    "dec = os.getenv(\"Dec\")\n",
    "path= os.getenv('Path')\n",
    "\n"
   ]
  },
  {
   "cell_type": "code",
   "execution_count": null,
   "id": "7c04bb5f",
   "metadata": {},
   "outputs": [],
   "source": [
    "import pandas as pd\n",
    "import numpy as np\n",
    "import random"
   ]
  },
  {
   "cell_type": "markdown",
   "id": "e2f1a955",
   "metadata": {},
   "source": [
    "##### 🔷 loading CSV files for each month into separate DataFrames"
   ]
  },
  {
   "cell_type": "code",
   "execution_count": null,
   "id": "a1bb9c62",
   "metadata": {},
   "outputs": [],
   "source": [
    "jan_df = pd.read_csv(jan)\n",
    "feb_df = pd.read_csv(feb)\n",
    "mar_df = pd.read_csv(mar)\n",
    "apr_df = pd.read_csv(apr)\n",
    "may_df = pd.read_csv(may,encoding='ISO-8859-1')\n",
    "jun_df = pd.read_csv(jun,encoding='ISO-8859-1')\n",
    "jul_df = pd.read_csv(jul,encoding='ISO-8859-1')\n",
    "aug_df = pd.read_csv(aug,encoding='ISO-8859-1')\n",
    "sep_df = pd.read_csv(sep,encoding='ISO-8859-1')\n",
    "oct_df = pd.read_csv(oct,encoding='ISO-8859-1')\n",
    "nov_df = pd.read_csv(nov,encoding='ISO-8859-1')\n",
    "dec_df = pd.read_csv(dec,encoding='ISO-8859-1')"
   ]
  },
  {
   "cell_type": "markdown",
   "id": "84bfe2fd",
   "metadata": {},
   "source": [
    "##### 🔷 puting all your monthly DataFrames into a list"
   ]
  },
  {
   "cell_type": "code",
   "execution_count": null,
   "id": "0606da96",
   "metadata": {},
   "outputs": [],
   "source": [
    "df_list = [jan_df,\n",
    "           feb_df,\n",
    "           mar_df,\n",
    "           apr_df,\n",
    "           may_df,\n",
    "           jun_df,\n",
    "           jul_df,\n",
    "           aug_df,\n",
    "           sep_df,\n",
    "           oct_df,\n",
    "           nov_df,\n",
    "           dec_df]"
   ]
  },
  {
   "cell_type": "markdown",
   "id": "80d9c9b3",
   "metadata": {},
   "source": [
    "##### 🔷 finding the common columns across all your monthly DataFrames by intersecting their column sets."
   ]
  },
  {
   "cell_type": "code",
   "execution_count": null,
   "id": "760d0ce2",
   "metadata": {},
   "outputs": [],
   "source": [
    "common_column = set(df_list[0].columns)\n",
    "print(common_column)"
   ]
  },
  {
   "cell_type": "code",
   "execution_count": null,
   "id": "5aeb5973",
   "metadata": {},
   "outputs": [],
   "source": [
    "for df in df_list[1:]:\n",
    "    common_column &= set(df.columns)\n"
   ]
  },
  {
   "cell_type": "code",
   "execution_count": null,
   "id": "47939ebe",
   "metadata": {},
   "outputs": [],
   "source": [
    "print(len(common_column))\n",
    "print(common_column)"
   ]
  },
  {
   "cell_type": "markdown",
   "id": "bed94ebc",
   "metadata": {},
   "source": [
    "##### 🔷  converting the common_column set back into a list and preserving the column order from jan_df"
   ]
  },
  {
   "cell_type": "code",
   "execution_count": null,
   "id": "30006b69",
   "metadata": {},
   "outputs": [],
   "source": [
    "common_column = [col for col in jan_df.columns if col in common_column]\n",
    "# to maintain consistent column order when selecting columns."
   ]
  },
  {
   "cell_type": "code",
   "execution_count": null,
   "id": "cbd6b7da",
   "metadata": {},
   "outputs": [],
   "source": [
    "jan_df[common_column]"
   ]
  },
  {
   "cell_type": "markdown",
   "id": "79e5650f",
   "metadata": {},
   "source": [
    "##### 🔷 creates a new list of DataFrames, each containing only the common columns in the same order, which is perfect before concatenation."
   ]
  },
  {
   "cell_type": "code",
   "execution_count": null,
   "id": "0d2ebb62",
   "metadata": {},
   "outputs": [],
   "source": [
    "dfs_common = [df[common_column] for df in df_list]"
   ]
  },
  {
   "cell_type": "code",
   "execution_count": null,
   "id": "4e59e47a",
   "metadata": {},
   "outputs": [],
   "source": [
    "dfs_common[0]"
   ]
  },
  {
   "cell_type": "markdown",
   "id": "c3ea0bb8",
   "metadata": {},
   "source": [
    "##### 🔷 unpacking the list dfs_common back into the original monthly DataFrame variables"
   ]
  },
  {
   "cell_type": "code",
   "execution_count": null,
   "id": "ea06a03e",
   "metadata": {},
   "outputs": [],
   "source": [
    "jan_df,feb_df,mar_df,apr_df,may_df,jun_df,jul_df,aug_df,sep_df,oct_df,nov_df,dec_df = dfs_common"
   ]
  },
  {
   "cell_type": "markdown",
   "id": "1a1dc930",
   "metadata": {},
   "source": [
    "##### 🔷 This loop will print the column names of each cleaned DataFrame with a label like df1, df2, …, so you can easily verify that all of them have the same columns:"
   ]
  },
  {
   "cell_type": "code",
   "execution_count": null,
   "id": "fc09c676",
   "metadata": {},
   "outputs": [],
   "source": [
    "for i,df in enumerate(dfs_common,1):\n",
    "    print(f'df{i}',df.columns.to_list())"
   ]
  },
  {
   "cell_type": "code",
   "execution_count": null,
   "id": "b1d50f99",
   "metadata": {},
   "outputs": [],
   "source": [
    "pd.concat(dfs_common).index"
   ]
  },
  {
   "cell_type": "markdown",
   "id": "e216ddc3",
   "metadata": {},
   "source": [
    "##### 🔷 combines all your monthly DataFrames into one big DataFrame, stacking rows while resetting the index."
   ]
  },
  {
   "cell_type": "code",
   "execution_count": null,
   "id": "a1afdf91",
   "metadata": {},
   "outputs": [],
   "source": [
    "concat_df = pd.concat(dfs_common,ignore_index=True)"
   ]
  },
  {
   "cell_type": "code",
   "execution_count": null,
   "id": "dad41cb2",
   "metadata": {},
   "outputs": [],
   "source": [
    "concat_df.index"
   ]
  },
  {
   "cell_type": "markdown",
   "id": "a6fa07f5",
   "metadata": {},
   "source": [
    "##### 🔷 renaming the columns of your combined DataFrame concat_df with the new list updated_column_name"
   ]
  },
  {
   "cell_type": "code",
   "execution_count": null,
   "id": "b8b4815b",
   "metadata": {},
   "outputs": [],
   "source": [
    "concat_df.columns"
   ]
  },
  {
   "cell_type": "code",
   "execution_count": null,
   "id": "35440c5c",
   "metadata": {},
   "outputs": [],
   "source": [
    "updated_column_name=['Date',\n",
    "                     'Shift',\n",
    "                     'Part_No',\n",
    "                     'Production',\n",
    "                     'Dent_Defect',\n",
    "                     'Paint_Defect',\n",
    "                     'Screen Defect',\n",
    "                     'Seam_leak',\n",
    "                     'Crimp_leak',\n",
    "                     'Casting_leak']"
   ]
  },
  {
   "cell_type": "code",
   "execution_count": null,
   "id": "698adae1",
   "metadata": {},
   "outputs": [],
   "source": [
    "concat_df.columns  = updated_column_name"
   ]
  },
  {
   "cell_type": "markdown",
   "id": "e371b562",
   "metadata": {},
   "source": [
    "##### 🔷 Replacing Part Numbers using random"
   ]
  },
  {
   "cell_type": "code",
   "execution_count": null,
   "id": "1cc89bfe",
   "metadata": {},
   "outputs": [],
   "source": [
    "uunique_parts = concat_df['Part_No'].unique().tolist()"
   ]
  },
  {
   "cell_type": "code",
   "execution_count": null,
   "id": "fa2874df",
   "metadata": {},
   "outputs": [],
   "source": [
    "len(uunique_parts)"
   ]
  },
  {
   "cell_type": "code",
   "execution_count": null,
   "id": "a1193822",
   "metadata": {},
   "outputs": [],
   "source": [
    "new_ids = random.sample(range(1000, 10000), 393)\n"
   ]
  },
  {
   "cell_type": "code",
   "execution_count": null,
   "id": "431a7dd8",
   "metadata": {},
   "outputs": [],
   "source": [
    "print(new_ids)"
   ]
  },
  {
   "cell_type": "code",
   "execution_count": null,
   "id": "532704be",
   "metadata": {},
   "outputs": [],
   "source": [
    "new_ids = [str(num) for num in new_ids]\n",
    "# convert to string"
   ]
  },
  {
   "cell_type": "code",
   "execution_count": null,
   "id": "132f48ab",
   "metadata": {},
   "outputs": [],
   "source": [
    "mapping_dict=dict(zip(uunique_parts,new_ids))"
   ]
  },
  {
   "cell_type": "code",
   "execution_count": null,
   "id": "b1e0a01d",
   "metadata": {},
   "outputs": [],
   "source": [
    "print(mapping_dict)"
   ]
  },
  {
   "cell_type": "code",
   "execution_count": null,
   "id": "da64e68e",
   "metadata": {},
   "outputs": [],
   "source": [
    "concat_df['Part_No'] = concat_df['Part_No'].map(mapping_dict)"
   ]
  },
  {
   "cell_type": "code",
   "execution_count": null,
   "id": "ef8dcc1a",
   "metadata": {},
   "outputs": [],
   "source": [
    "print(concat_df['Part_No'].nunique()) "
   ]
  },
  {
   "cell_type": "markdown",
   "id": "bb1142c6",
   "metadata": {},
   "source": [
    "##### 🔷 Changing data types "
   ]
  },
  {
   "cell_type": "code",
   "execution_count": null,
   "id": "24b8b572",
   "metadata": {},
   "outputs": [],
   "source": [
    "concat_df.dtypes"
   ]
  },
  {
   "cell_type": "code",
   "execution_count": null,
   "id": "3be0a73d",
   "metadata": {},
   "outputs": [],
   "source": [
    "concat_df['Screen Defect'].unique()"
   ]
  },
  {
   "cell_type": "code",
   "execution_count": null,
   "id": "f190ac06",
   "metadata": {},
   "outputs": [],
   "source": [
    "dtype_change_clm = concat_df.columns[4:]\n",
    "print(dtype_change_clm)"
   ]
  },
  {
   "cell_type": "code",
   "execution_count": null,
   "id": "01b9809d",
   "metadata": {},
   "outputs": [],
   "source": [
    "concat_df[dtype_change_clm] = concat_df[dtype_change_clm]\\\n",
    "    .replace(r'^\\s*$', 0, regex=True)\\\n",
    "    .fillna(0)\\\n",
    "    .apply(pd.to_numeric, errors='coerce')\\\n",
    "    .fillna(0)\\\n",
    "    .astype(int)\n"
   ]
  },
  {
   "cell_type": "code",
   "execution_count": null,
   "id": "5447d3ad",
   "metadata": {},
   "outputs": [],
   "source": [
    "concat_df[['Shift','Part_No']]=concat_df[['Shift','Part_No']].astype('string')"
   ]
  },
  {
   "cell_type": "code",
   "execution_count": 59,
   "id": "9c271073",
   "metadata": {},
   "outputs": [
    {
     "name": "stdout",
     "output_type": "stream",
     "text": [
      "<class 'pandas.core.frame.DataFrame'>\n",
      "RangeIndex: 6394 entries, 0 to 6393\n",
      "Data columns (total 10 columns):\n",
      " #   Column         Non-Null Count  Dtype         \n",
      "---  ------         --------------  -----         \n",
      " 0   Date           6394 non-null   datetime64[ns]\n",
      " 1   Shift          6394 non-null   string        \n",
      " 2   Part_No        6394 non-null   string        \n",
      " 3   Production     6394 non-null   int64         \n",
      " 4   Dent_Defect    6394 non-null   int64         \n",
      " 5   Paint_Defect   6394 non-null   int64         \n",
      " 6   Screen Defect  6394 non-null   int64         \n",
      " 7   Seam_leak      6394 non-null   int64         \n",
      " 8   Crimp_leak     6394 non-null   int64         \n",
      " 9   Casting_leak   6394 non-null   int64         \n",
      "dtypes: datetime64[ns](1), int64(7), string(2)\n",
      "memory usage: 499.7 KB\n"
     ]
    }
   ],
   "source": [
    "concat_df.info()"
   ]
  },
  {
   "cell_type": "code",
   "execution_count": null,
   "id": "e4bc6f6f",
   "metadata": {},
   "outputs": [],
   "source": [
    "concat_df['Date']= pd.to_datetime(concat_df['Date'], format='mixed', dayfirst=True)\n",
    "#if the date formats are inconsistent, you can tell pandas to infer them with dayfirst=True"
   ]
  },
  {
   "cell_type": "code",
   "execution_count": null,
   "id": "0d765326",
   "metadata": {},
   "outputs": [],
   "source": [
    "# concat_df.to_csv(rf'{path}\\concatall.csv',index=False)"
   ]
  },
  {
   "cell_type": "markdown",
   "id": "33a7c1d7",
   "metadata": {},
   "source": []
  }
 ],
 "metadata": {
  "kernelspec": {
   "display_name": "Python 3",
   "language": "python",
   "name": "python3"
  },
  "language_info": {
   "codemirror_mode": {
    "name": "ipython",
    "version": 3
   },
   "file_extension": ".py",
   "mimetype": "text/x-python",
   "name": "python",
   "nbconvert_exporter": "python",
   "pygments_lexer": "ipython3",
   "version": "3.13.7"
  }
 },
 "nbformat": 4,
 "nbformat_minor": 5
}
