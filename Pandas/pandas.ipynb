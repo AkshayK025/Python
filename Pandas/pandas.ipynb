{
 "cells": [
  {
   "cell_type": "markdown",
   "id": "84b08787",
   "metadata": {},
   "source": [
    "#### 🔷 Loads settings from a .env file and saves them into variables for use in the program."
   ]
  },
  {
   "cell_type": "code",
   "execution_count": 1,
   "id": "61938d5c",
   "metadata": {},
   "outputs": [],
   "source": [
    "from dotenv import load_dotenv\n",
    "import os\n",
    "load_dotenv(override=True) \n",
    "jan = os.getenv(\"Jan\")\n",
    "feb = os.getenv(\"Feb\")\n",
    "mar = os.getenv(\"Mar\")\n",
    "apr= os.getenv(\"Apr\")\n",
    "may = os.getenv(\"May\")\n",
    "jun = os.getenv(\"Jun\")\n",
    "jul = os.getenv(\"Jul\")\n",
    "aug = os.getenv(\"Aug\")\n",
    "sep = os.getenv(\"Sep\")\n",
    "oct = os.getenv(\"Oct\")\n",
    "nov = os.getenv(\"Nov\")\n",
    "dec = os.getenv(\"Dec\")\n",
    "path= os.getenv('Path')\n",
    "\n"
   ]
  },
  {
   "cell_type": "code",
   "execution_count": 2,
   "id": "7c04bb5f",
   "metadata": {},
   "outputs": [],
   "source": [
    "import pandas as pd\n",
    "import numpy as np\n",
    "import random"
   ]
  },
  {
   "cell_type": "markdown",
   "id": "e2f1a955",
   "metadata": {},
   "source": [
    "##### 🔷 loading CSV files for each month into separate DataFrames"
   ]
  },
  {
   "cell_type": "code",
   "execution_count": 3,
   "id": "a1bb9c62",
   "metadata": {},
   "outputs": [],
   "source": [
    "jan_df = pd.read_csv(jan)\n",
    "feb_df = pd.read_csv(feb)\n",
    "mar_df = pd.read_csv(mar)\n",
    "apr_df = pd.read_csv(apr)\n",
    "may_df = pd.read_csv(may,encoding='ISO-8859-1')\n",
    "jun_df = pd.read_csv(jun,encoding='ISO-8859-1')\n",
    "jul_df = pd.read_csv(jul,encoding='ISO-8859-1')\n",
    "aug_df = pd.read_csv(aug,encoding='ISO-8859-1')\n",
    "sep_df = pd.read_csv(sep,encoding='ISO-8859-1')\n",
    "oct_df = pd.read_csv(oct,encoding='ISO-8859-1')\n",
    "nov_df = pd.read_csv(nov,encoding='ISO-8859-1')\n",
    "dec_df = pd.read_csv(dec,encoding='ISO-8859-1')"
   ]
  },
  {
   "cell_type": "markdown",
   "id": "84bfe2fd",
   "metadata": {},
   "source": [
    "##### 🔷 puting all your monthly DataFrames into a list"
   ]
  },
  {
   "cell_type": "code",
   "execution_count": 4,
   "id": "0606da96",
   "metadata": {},
   "outputs": [],
   "source": [
    "df_list = [jan_df,\n",
    "           feb_df,\n",
    "           mar_df,\n",
    "           apr_df,\n",
    "           may_df,\n",
    "           jun_df,\n",
    "           jul_df,\n",
    "           aug_df,\n",
    "           sep_df,\n",
    "           oct_df,\n",
    "           nov_df,\n",
    "           dec_df]"
   ]
  },
  {
   "cell_type": "markdown",
   "id": "80d9c9b3",
   "metadata": {},
   "source": [
    "##### 🔷 finding the common columns across all your monthly DataFrames by intersecting their column sets."
   ]
  },
  {
   "cell_type": "code",
   "execution_count": 5,
   "id": "760d0ce2",
   "metadata": {},
   "outputs": [
    {
     "name": "stdout",
     "output_type": "stream",
     "text": [
      "{'Production Quantity', 'Filter damage (P)', 'Drain valve wire cut (S)', 'Date', 'Drain valve damage (S)', 'Cartridge/ Element O ring miss (R)', 'Leak through filter seam (S)', 'Head leakage through adaptor/connector (R)', 'Leak through breathing/ bleed screw (R)', 'DV leak from body (S)', 'DV leak from O-ring (S)', 'Filter dent & damage (S)', 'Filter paint not ok (P)', 'Filter screen overlap (S)', 'Filter paint not ok (S)', 'Reed valve damage (P)', 'Part No', 'Head casting leak (R)', 'Filter crimp nut leak (S)', 'Filter screen not ok (S)', 'Shift'}\n"
     ]
    }
   ],
   "source": [
    "common_column = set(df_list[0].columns)\n",
    "print(common_column)"
   ]
  },
  {
   "cell_type": "code",
   "execution_count": 6,
   "id": "5aeb5973",
   "metadata": {},
   "outputs": [],
   "source": [
    "for df in df_list[1:]:\n",
    "    common_column &= set(df.columns)\n"
   ]
  },
  {
   "cell_type": "code",
   "execution_count": 7,
   "id": "47939ebe",
   "metadata": {},
   "outputs": [
    {
     "name": "stdout",
     "output_type": "stream",
     "text": [
      "10\n",
      "{'Production Quantity', 'Head casting leak (R)', 'Filter dent & damage (S)', 'Date', 'Filter crimp nut leak (S)', 'Filter screen not ok (S)', 'Filter paint not ok (S)', 'Shift', 'Leak through filter seam (S)', 'Part No'}\n"
     ]
    }
   ],
   "source": [
    "print(len(common_column))\n",
    "print(common_column)"
   ]
  },
  {
   "cell_type": "markdown",
   "id": "bed94ebc",
   "metadata": {},
   "source": [
    "##### 🔷  converting the common_column set back into a list and preserving the column order from jan_df"
   ]
  },
  {
   "cell_type": "code",
   "execution_count": 8,
   "id": "30006b69",
   "metadata": {},
   "outputs": [],
   "source": [
    "common_column = [col for col in jan_df.columns if col in common_column]\n",
    "# to maintain consistent column order when selecting columns."
   ]
  },
  {
   "cell_type": "code",
   "execution_count": 9,
   "id": "cbd6b7da",
   "metadata": {},
   "outputs": [
    {
     "data": {
      "text/html": [
       "<div>\n",
       "<style scoped>\n",
       "    .dataframe tbody tr th:only-of-type {\n",
       "        vertical-align: middle;\n",
       "    }\n",
       "\n",
       "    .dataframe tbody tr th {\n",
       "        vertical-align: top;\n",
       "    }\n",
       "\n",
       "    .dataframe thead th {\n",
       "        text-align: right;\n",
       "    }\n",
       "</style>\n",
       "<table border=\"1\" class=\"dataframe\">\n",
       "  <thead>\n",
       "    <tr style=\"text-align: right;\">\n",
       "      <th></th>\n",
       "      <th>Date</th>\n",
       "      <th>Shift</th>\n",
       "      <th>Part No</th>\n",
       "      <th>Production Quantity</th>\n",
       "      <th>Filter dent &amp; damage (S)</th>\n",
       "      <th>Filter paint not ok (S)</th>\n",
       "      <th>Filter screen not ok (S)</th>\n",
       "      <th>Leak through filter seam (S)</th>\n",
       "      <th>Filter crimp nut leak (S)</th>\n",
       "      <th>Head casting leak (R)</th>\n",
       "    </tr>\n",
       "  </thead>\n",
       "  <tbody>\n",
       "    <tr>\n",
       "      <th>0</th>\n",
       "      <td>02-01-2024</td>\n",
       "      <td>I</td>\n",
       "      <td>8710161</td>\n",
       "      <td>60</td>\n",
       "      <td>NaN</td>\n",
       "      <td>NaN</td>\n",
       "      <td>NaN</td>\n",
       "      <td>NaN</td>\n",
       "      <td>NaN</td>\n",
       "      <td>NaN</td>\n",
       "    </tr>\n",
       "    <tr>\n",
       "      <th>1</th>\n",
       "      <td>02-01-2024</td>\n",
       "      <td>I</td>\n",
       "      <td>5038945</td>\n",
       "      <td>300</td>\n",
       "      <td>1.0</td>\n",
       "      <td>131.0</td>\n",
       "      <td>NaN</td>\n",
       "      <td>NaN</td>\n",
       "      <td>NaN</td>\n",
       "      <td>NaN</td>\n",
       "    </tr>\n",
       "    <tr>\n",
       "      <th>2</th>\n",
       "      <td>02-01-2024</td>\n",
       "      <td>I</td>\n",
       "      <td>5037085</td>\n",
       "      <td>90</td>\n",
       "      <td>6.0</td>\n",
       "      <td>10.0</td>\n",
       "      <td>NaN</td>\n",
       "      <td>NaN</td>\n",
       "      <td>NaN</td>\n",
       "      <td>NaN</td>\n",
       "    </tr>\n",
       "    <tr>\n",
       "      <th>3</th>\n",
       "      <td>02-01-2024</td>\n",
       "      <td>I</td>\n",
       "      <td>5007058</td>\n",
       "      <td>90</td>\n",
       "      <td>NaN</td>\n",
       "      <td>NaN</td>\n",
       "      <td>NaN</td>\n",
       "      <td>NaN</td>\n",
       "      <td>NaN</td>\n",
       "      <td>NaN</td>\n",
       "    </tr>\n",
       "    <tr>\n",
       "      <th>4</th>\n",
       "      <td>02-01-2024</td>\n",
       "      <td>I</td>\n",
       "      <td>5005557</td>\n",
       "      <td>90</td>\n",
       "      <td>NaN</td>\n",
       "      <td>56.0</td>\n",
       "      <td>NaN</td>\n",
       "      <td>NaN</td>\n",
       "      <td>9.0</td>\n",
       "      <td>NaN</td>\n",
       "    </tr>\n",
       "    <tr>\n",
       "      <th>...</th>\n",
       "      <td>...</td>\n",
       "      <td>...</td>\n",
       "      <td>...</td>\n",
       "      <td>...</td>\n",
       "      <td>...</td>\n",
       "      <td>...</td>\n",
       "      <td>...</td>\n",
       "      <td>...</td>\n",
       "      <td>...</td>\n",
       "      <td>...</td>\n",
       "    </tr>\n",
       "    <tr>\n",
       "      <th>539</th>\n",
       "      <td>31-01-2024</td>\n",
       "      <td>II</td>\n",
       "      <td>5001370</td>\n",
       "      <td>12</td>\n",
       "      <td>NaN</td>\n",
       "      <td>NaN</td>\n",
       "      <td>NaN</td>\n",
       "      <td>NaN</td>\n",
       "      <td>NaN</td>\n",
       "      <td>NaN</td>\n",
       "    </tr>\n",
       "    <tr>\n",
       "      <th>540</th>\n",
       "      <td>31-01-2024</td>\n",
       "      <td>II</td>\n",
       "      <td>8710281</td>\n",
       "      <td>12</td>\n",
       "      <td>NaN</td>\n",
       "      <td>NaN</td>\n",
       "      <td>NaN</td>\n",
       "      <td>NaN</td>\n",
       "      <td>NaN</td>\n",
       "      <td>NaN</td>\n",
       "    </tr>\n",
       "    <tr>\n",
       "      <th>541</th>\n",
       "      <td>31-01-2024</td>\n",
       "      <td>II</td>\n",
       "      <td>5038956</td>\n",
       "      <td>204</td>\n",
       "      <td>NaN</td>\n",
       "      <td>NaN</td>\n",
       "      <td>NaN</td>\n",
       "      <td>NaN</td>\n",
       "      <td>NaN</td>\n",
       "      <td>2.0</td>\n",
       "    </tr>\n",
       "    <tr>\n",
       "      <th>542</th>\n",
       "      <td>31-01-2024</td>\n",
       "      <td>II</td>\n",
       "      <td>8710100</td>\n",
       "      <td>24</td>\n",
       "      <td>NaN</td>\n",
       "      <td>NaN</td>\n",
       "      <td>NaN</td>\n",
       "      <td>NaN</td>\n",
       "      <td>NaN</td>\n",
       "      <td>NaN</td>\n",
       "    </tr>\n",
       "    <tr>\n",
       "      <th>543</th>\n",
       "      <td>31-01-2024</td>\n",
       "      <td>II</td>\n",
       "      <td>5037085</td>\n",
       "      <td>60</td>\n",
       "      <td>5.0</td>\n",
       "      <td>29.0</td>\n",
       "      <td>11.0</td>\n",
       "      <td>NaN</td>\n",
       "      <td>1.0</td>\n",
       "      <td>NaN</td>\n",
       "    </tr>\n",
       "  </tbody>\n",
       "</table>\n",
       "<p>544 rows × 10 columns</p>\n",
       "</div>"
      ],
      "text/plain": [
       "           Date Shift  Part No  Production Quantity  Filter dent & damage (S)  \\\n",
       "0    02-01-2024     I  8710161                   60                       NaN   \n",
       "1    02-01-2024     I  5038945                  300                       1.0   \n",
       "2    02-01-2024     I  5037085                   90                       6.0   \n",
       "3    02-01-2024     I  5007058                   90                       NaN   \n",
       "4    02-01-2024     I  5005557                   90                       NaN   \n",
       "..          ...   ...      ...                  ...                       ...   \n",
       "539  31-01-2024    II  5001370                   12                       NaN   \n",
       "540  31-01-2024    II  8710281                   12                       NaN   \n",
       "541  31-01-2024    II  5038956                  204                       NaN   \n",
       "542  31-01-2024    II  8710100                   24                       NaN   \n",
       "543  31-01-2024    II  5037085                   60                       5.0   \n",
       "\n",
       "     Filter paint not ok (S)  Filter screen not ok (S)  \\\n",
       "0                        NaN                       NaN   \n",
       "1                      131.0                       NaN   \n",
       "2                       10.0                       NaN   \n",
       "3                        NaN                       NaN   \n",
       "4                       56.0                       NaN   \n",
       "..                       ...                       ...   \n",
       "539                      NaN                       NaN   \n",
       "540                      NaN                       NaN   \n",
       "541                      NaN                       NaN   \n",
       "542                      NaN                       NaN   \n",
       "543                     29.0                      11.0   \n",
       "\n",
       "     Leak through filter seam (S)  Filter crimp nut leak (S)  \\\n",
       "0                             NaN                        NaN   \n",
       "1                             NaN                        NaN   \n",
       "2                             NaN                        NaN   \n",
       "3                             NaN                        NaN   \n",
       "4                             NaN                        9.0   \n",
       "..                            ...                        ...   \n",
       "539                           NaN                        NaN   \n",
       "540                           NaN                        NaN   \n",
       "541                           NaN                        NaN   \n",
       "542                           NaN                        NaN   \n",
       "543                           NaN                        1.0   \n",
       "\n",
       "     Head casting leak (R)  \n",
       "0                      NaN  \n",
       "1                      NaN  \n",
       "2                      NaN  \n",
       "3                      NaN  \n",
       "4                      NaN  \n",
       "..                     ...  \n",
       "539                    NaN  \n",
       "540                    NaN  \n",
       "541                    2.0  \n",
       "542                    NaN  \n",
       "543                    NaN  \n",
       "\n",
       "[544 rows x 10 columns]"
      ]
     },
     "execution_count": 9,
     "metadata": {},
     "output_type": "execute_result"
    }
   ],
   "source": [
    "jan_df[common_column]"
   ]
  },
  {
   "cell_type": "markdown",
   "id": "79e5650f",
   "metadata": {},
   "source": [
    "##### 🔷 creates a new list of DataFrames, each containing only the common columns in the same order, which is perfect before concatenation."
   ]
  },
  {
   "cell_type": "code",
   "execution_count": 10,
   "id": "0d2ebb62",
   "metadata": {},
   "outputs": [],
   "source": [
    "dfs_common = [df[common_column] for df in df_list]"
   ]
  },
  {
   "cell_type": "code",
   "execution_count": 11,
   "id": "4e59e47a",
   "metadata": {},
   "outputs": [
    {
     "data": {
      "text/html": [
       "<div>\n",
       "<style scoped>\n",
       "    .dataframe tbody tr th:only-of-type {\n",
       "        vertical-align: middle;\n",
       "    }\n",
       "\n",
       "    .dataframe tbody tr th {\n",
       "        vertical-align: top;\n",
       "    }\n",
       "\n",
       "    .dataframe thead th {\n",
       "        text-align: right;\n",
       "    }\n",
       "</style>\n",
       "<table border=\"1\" class=\"dataframe\">\n",
       "  <thead>\n",
       "    <tr style=\"text-align: right;\">\n",
       "      <th></th>\n",
       "      <th>Date</th>\n",
       "      <th>Shift</th>\n",
       "      <th>Part No</th>\n",
       "      <th>Production Quantity</th>\n",
       "      <th>Filter dent &amp; damage (S)</th>\n",
       "      <th>Filter paint not ok (S)</th>\n",
       "      <th>Filter screen not ok (S)</th>\n",
       "      <th>Leak through filter seam (S)</th>\n",
       "      <th>Filter crimp nut leak (S)</th>\n",
       "      <th>Head casting leak (R)</th>\n",
       "    </tr>\n",
       "  </thead>\n",
       "  <tbody>\n",
       "    <tr>\n",
       "      <th>0</th>\n",
       "      <td>02-01-2024</td>\n",
       "      <td>I</td>\n",
       "      <td>8710161</td>\n",
       "      <td>60</td>\n",
       "      <td>NaN</td>\n",
       "      <td>NaN</td>\n",
       "      <td>NaN</td>\n",
       "      <td>NaN</td>\n",
       "      <td>NaN</td>\n",
       "      <td>NaN</td>\n",
       "    </tr>\n",
       "    <tr>\n",
       "      <th>1</th>\n",
       "      <td>02-01-2024</td>\n",
       "      <td>I</td>\n",
       "      <td>5038945</td>\n",
       "      <td>300</td>\n",
       "      <td>1.0</td>\n",
       "      <td>131.0</td>\n",
       "      <td>NaN</td>\n",
       "      <td>NaN</td>\n",
       "      <td>NaN</td>\n",
       "      <td>NaN</td>\n",
       "    </tr>\n",
       "    <tr>\n",
       "      <th>2</th>\n",
       "      <td>02-01-2024</td>\n",
       "      <td>I</td>\n",
       "      <td>5037085</td>\n",
       "      <td>90</td>\n",
       "      <td>6.0</td>\n",
       "      <td>10.0</td>\n",
       "      <td>NaN</td>\n",
       "      <td>NaN</td>\n",
       "      <td>NaN</td>\n",
       "      <td>NaN</td>\n",
       "    </tr>\n",
       "    <tr>\n",
       "      <th>3</th>\n",
       "      <td>02-01-2024</td>\n",
       "      <td>I</td>\n",
       "      <td>5007058</td>\n",
       "      <td>90</td>\n",
       "      <td>NaN</td>\n",
       "      <td>NaN</td>\n",
       "      <td>NaN</td>\n",
       "      <td>NaN</td>\n",
       "      <td>NaN</td>\n",
       "      <td>NaN</td>\n",
       "    </tr>\n",
       "    <tr>\n",
       "      <th>4</th>\n",
       "      <td>02-01-2024</td>\n",
       "      <td>I</td>\n",
       "      <td>5005557</td>\n",
       "      <td>90</td>\n",
       "      <td>NaN</td>\n",
       "      <td>56.0</td>\n",
       "      <td>NaN</td>\n",
       "      <td>NaN</td>\n",
       "      <td>9.0</td>\n",
       "      <td>NaN</td>\n",
       "    </tr>\n",
       "    <tr>\n",
       "      <th>...</th>\n",
       "      <td>...</td>\n",
       "      <td>...</td>\n",
       "      <td>...</td>\n",
       "      <td>...</td>\n",
       "      <td>...</td>\n",
       "      <td>...</td>\n",
       "      <td>...</td>\n",
       "      <td>...</td>\n",
       "      <td>...</td>\n",
       "      <td>...</td>\n",
       "    </tr>\n",
       "    <tr>\n",
       "      <th>539</th>\n",
       "      <td>31-01-2024</td>\n",
       "      <td>II</td>\n",
       "      <td>5001370</td>\n",
       "      <td>12</td>\n",
       "      <td>NaN</td>\n",
       "      <td>NaN</td>\n",
       "      <td>NaN</td>\n",
       "      <td>NaN</td>\n",
       "      <td>NaN</td>\n",
       "      <td>NaN</td>\n",
       "    </tr>\n",
       "    <tr>\n",
       "      <th>540</th>\n",
       "      <td>31-01-2024</td>\n",
       "      <td>II</td>\n",
       "      <td>8710281</td>\n",
       "      <td>12</td>\n",
       "      <td>NaN</td>\n",
       "      <td>NaN</td>\n",
       "      <td>NaN</td>\n",
       "      <td>NaN</td>\n",
       "      <td>NaN</td>\n",
       "      <td>NaN</td>\n",
       "    </tr>\n",
       "    <tr>\n",
       "      <th>541</th>\n",
       "      <td>31-01-2024</td>\n",
       "      <td>II</td>\n",
       "      <td>5038956</td>\n",
       "      <td>204</td>\n",
       "      <td>NaN</td>\n",
       "      <td>NaN</td>\n",
       "      <td>NaN</td>\n",
       "      <td>NaN</td>\n",
       "      <td>NaN</td>\n",
       "      <td>2.0</td>\n",
       "    </tr>\n",
       "    <tr>\n",
       "      <th>542</th>\n",
       "      <td>31-01-2024</td>\n",
       "      <td>II</td>\n",
       "      <td>8710100</td>\n",
       "      <td>24</td>\n",
       "      <td>NaN</td>\n",
       "      <td>NaN</td>\n",
       "      <td>NaN</td>\n",
       "      <td>NaN</td>\n",
       "      <td>NaN</td>\n",
       "      <td>NaN</td>\n",
       "    </tr>\n",
       "    <tr>\n",
       "      <th>543</th>\n",
       "      <td>31-01-2024</td>\n",
       "      <td>II</td>\n",
       "      <td>5037085</td>\n",
       "      <td>60</td>\n",
       "      <td>5.0</td>\n",
       "      <td>29.0</td>\n",
       "      <td>11.0</td>\n",
       "      <td>NaN</td>\n",
       "      <td>1.0</td>\n",
       "      <td>NaN</td>\n",
       "    </tr>\n",
       "  </tbody>\n",
       "</table>\n",
       "<p>544 rows × 10 columns</p>\n",
       "</div>"
      ],
      "text/plain": [
       "           Date Shift  Part No  Production Quantity  Filter dent & damage (S)  \\\n",
       "0    02-01-2024     I  8710161                   60                       NaN   \n",
       "1    02-01-2024     I  5038945                  300                       1.0   \n",
       "2    02-01-2024     I  5037085                   90                       6.0   \n",
       "3    02-01-2024     I  5007058                   90                       NaN   \n",
       "4    02-01-2024     I  5005557                   90                       NaN   \n",
       "..          ...   ...      ...                  ...                       ...   \n",
       "539  31-01-2024    II  5001370                   12                       NaN   \n",
       "540  31-01-2024    II  8710281                   12                       NaN   \n",
       "541  31-01-2024    II  5038956                  204                       NaN   \n",
       "542  31-01-2024    II  8710100                   24                       NaN   \n",
       "543  31-01-2024    II  5037085                   60                       5.0   \n",
       "\n",
       "     Filter paint not ok (S)  Filter screen not ok (S)  \\\n",
       "0                        NaN                       NaN   \n",
       "1                      131.0                       NaN   \n",
       "2                       10.0                       NaN   \n",
       "3                        NaN                       NaN   \n",
       "4                       56.0                       NaN   \n",
       "..                       ...                       ...   \n",
       "539                      NaN                       NaN   \n",
       "540                      NaN                       NaN   \n",
       "541                      NaN                       NaN   \n",
       "542                      NaN                       NaN   \n",
       "543                     29.0                      11.0   \n",
       "\n",
       "     Leak through filter seam (S)  Filter crimp nut leak (S)  \\\n",
       "0                             NaN                        NaN   \n",
       "1                             NaN                        NaN   \n",
       "2                             NaN                        NaN   \n",
       "3                             NaN                        NaN   \n",
       "4                             NaN                        9.0   \n",
       "..                            ...                        ...   \n",
       "539                           NaN                        NaN   \n",
       "540                           NaN                        NaN   \n",
       "541                           NaN                        NaN   \n",
       "542                           NaN                        NaN   \n",
       "543                           NaN                        1.0   \n",
       "\n",
       "     Head casting leak (R)  \n",
       "0                      NaN  \n",
       "1                      NaN  \n",
       "2                      NaN  \n",
       "3                      NaN  \n",
       "4                      NaN  \n",
       "..                     ...  \n",
       "539                    NaN  \n",
       "540                    NaN  \n",
       "541                    2.0  \n",
       "542                    NaN  \n",
       "543                    NaN  \n",
       "\n",
       "[544 rows x 10 columns]"
      ]
     },
     "execution_count": 11,
     "metadata": {},
     "output_type": "execute_result"
    }
   ],
   "source": [
    "dfs_common[0]"
   ]
  },
  {
   "cell_type": "markdown",
   "id": "c3ea0bb8",
   "metadata": {},
   "source": [
    "##### 🔷 unpacking the list dfs_common back into the original monthly DataFrame variables"
   ]
  },
  {
   "cell_type": "code",
   "execution_count": 12,
   "id": "ea06a03e",
   "metadata": {},
   "outputs": [],
   "source": [
    "jan_df,feb_df,mar_df,apr_df,may_df,jun_df,jul_df,aug_df,sep_df,oct_df,nov_df,dec_df = dfs_common"
   ]
  },
  {
   "cell_type": "markdown",
   "id": "1a1dc930",
   "metadata": {},
   "source": [
    "##### 🔷 This loop will print the column names of each cleaned DataFrame with a label like df1, df2, …, so you can easily verify that all of them have the same columns:"
   ]
  },
  {
   "cell_type": "code",
   "execution_count": 13,
   "id": "fc09c676",
   "metadata": {},
   "outputs": [
    {
     "name": "stdout",
     "output_type": "stream",
     "text": [
      "df1 ['Date', 'Shift', 'Part No', 'Production Quantity', 'Filter dent & damage (S)', 'Filter paint not ok (S)', 'Filter screen not ok (S)', 'Leak through filter seam (S)', 'Filter crimp nut leak (S)', 'Head casting leak (R)']\n",
      "df2 ['Date', 'Shift', 'Part No', 'Production Quantity', 'Filter dent & damage (S)', 'Filter paint not ok (S)', 'Filter screen not ok (S)', 'Leak through filter seam (S)', 'Filter crimp nut leak (S)', 'Head casting leak (R)']\n",
      "df3 ['Date', 'Shift', 'Part No', 'Production Quantity', 'Filter dent & damage (S)', 'Filter paint not ok (S)', 'Filter screen not ok (S)', 'Leak through filter seam (S)', 'Filter crimp nut leak (S)', 'Head casting leak (R)']\n",
      "df4 ['Date', 'Shift', 'Part No', 'Production Quantity', 'Filter dent & damage (S)', 'Filter paint not ok (S)', 'Filter screen not ok (S)', 'Leak through filter seam (S)', 'Filter crimp nut leak (S)', 'Head casting leak (R)']\n",
      "df5 ['Date', 'Shift', 'Part No', 'Production Quantity', 'Filter dent & damage (S)', 'Filter paint not ok (S)', 'Filter screen not ok (S)', 'Leak through filter seam (S)', 'Filter crimp nut leak (S)', 'Head casting leak (R)']\n",
      "df6 ['Date', 'Shift', 'Part No', 'Production Quantity', 'Filter dent & damage (S)', 'Filter paint not ok (S)', 'Filter screen not ok (S)', 'Leak through filter seam (S)', 'Filter crimp nut leak (S)', 'Head casting leak (R)']\n",
      "df7 ['Date', 'Shift', 'Part No', 'Production Quantity', 'Filter dent & damage (S)', 'Filter paint not ok (S)', 'Filter screen not ok (S)', 'Leak through filter seam (S)', 'Filter crimp nut leak (S)', 'Head casting leak (R)']\n",
      "df8 ['Date', 'Shift', 'Part No', 'Production Quantity', 'Filter dent & damage (S)', 'Filter paint not ok (S)', 'Filter screen not ok (S)', 'Leak through filter seam (S)', 'Filter crimp nut leak (S)', 'Head casting leak (R)']\n",
      "df9 ['Date', 'Shift', 'Part No', 'Production Quantity', 'Filter dent & damage (S)', 'Filter paint not ok (S)', 'Filter screen not ok (S)', 'Leak through filter seam (S)', 'Filter crimp nut leak (S)', 'Head casting leak (R)']\n",
      "df10 ['Date', 'Shift', 'Part No', 'Production Quantity', 'Filter dent & damage (S)', 'Filter paint not ok (S)', 'Filter screen not ok (S)', 'Leak through filter seam (S)', 'Filter crimp nut leak (S)', 'Head casting leak (R)']\n",
      "df11 ['Date', 'Shift', 'Part No', 'Production Quantity', 'Filter dent & damage (S)', 'Filter paint not ok (S)', 'Filter screen not ok (S)', 'Leak through filter seam (S)', 'Filter crimp nut leak (S)', 'Head casting leak (R)']\n",
      "df12 ['Date', 'Shift', 'Part No', 'Production Quantity', 'Filter dent & damage (S)', 'Filter paint not ok (S)', 'Filter screen not ok (S)', 'Leak through filter seam (S)', 'Filter crimp nut leak (S)', 'Head casting leak (R)']\n"
     ]
    }
   ],
   "source": [
    "for i,df in enumerate(dfs_common,1):\n",
    "    print(f'df{i}',df.columns.to_list())"
   ]
  },
  {
   "cell_type": "code",
   "execution_count": 14,
   "id": "b1d50f99",
   "metadata": {},
   "outputs": [
    {
     "data": {
      "text/plain": [
       "Index([  0,   1,   2,   3,   4,   5,   6,   7,   8,   9,\n",
       "       ...\n",
       "       595, 596, 597, 598, 599, 600, 601, 602, 603, 604],\n",
       "      dtype='int64', length=6394)"
      ]
     },
     "execution_count": 14,
     "metadata": {},
     "output_type": "execute_result"
    }
   ],
   "source": [
    "pd.concat(dfs_common).index"
   ]
  },
  {
   "cell_type": "markdown",
   "id": "e216ddc3",
   "metadata": {},
   "source": [
    "##### 🔷 combines all your monthly DataFrames into one big DataFrame, stacking rows while resetting the index."
   ]
  },
  {
   "cell_type": "code",
   "execution_count": 15,
   "id": "a1afdf91",
   "metadata": {},
   "outputs": [],
   "source": [
    "concat_df = pd.concat(dfs_common,ignore_index=True)"
   ]
  },
  {
   "cell_type": "code",
   "execution_count": 16,
   "id": "dad41cb2",
   "metadata": {},
   "outputs": [
    {
     "data": {
      "text/plain": [
       "RangeIndex(start=0, stop=6394, step=1)"
      ]
     },
     "execution_count": 16,
     "metadata": {},
     "output_type": "execute_result"
    }
   ],
   "source": [
    "concat_df.index"
   ]
  },
  {
   "cell_type": "markdown",
   "id": "a6fa07f5",
   "metadata": {},
   "source": [
    "##### 🔷 renaming the columns of your combined DataFrame concat_df with the new list updated_column_name"
   ]
  },
  {
   "cell_type": "code",
   "execution_count": 17,
   "id": "b8b4815b",
   "metadata": {},
   "outputs": [
    {
     "data": {
      "text/plain": [
       "Index(['Date', 'Shift', 'Part No', 'Production Quantity',\n",
       "       'Filter dent & damage (S)', 'Filter paint not ok (S)',\n",
       "       'Filter screen not ok (S)', 'Leak through filter seam (S)',\n",
       "       'Filter crimp nut leak (S)', 'Head casting leak (R)'],\n",
       "      dtype='object')"
      ]
     },
     "execution_count": 17,
     "metadata": {},
     "output_type": "execute_result"
    }
   ],
   "source": [
    "concat_df.columns"
   ]
  },
  {
   "cell_type": "code",
   "execution_count": 18,
   "id": "35440c5c",
   "metadata": {},
   "outputs": [],
   "source": [
    "updated_column_name=['Date',\n",
    "                     'Shift',\n",
    "                     'Part_No',\n",
    "                     'Production',\n",
    "                     'Dent_Defect',\n",
    "                     'Paint_Defect',\n",
    "                     'Screen Defect',\n",
    "                     'Seam_leak',\n",
    "                     'Crimp_leak',\n",
    "                     'Casting_leak']"
   ]
  },
  {
   "cell_type": "code",
   "execution_count": 19,
   "id": "698adae1",
   "metadata": {},
   "outputs": [],
   "source": [
    "concat_df.columns  = updated_column_name"
   ]
  },
  {
   "cell_type": "markdown",
   "id": "e371b562",
   "metadata": {},
   "source": [
    "##### 🔷 Replacing Part Numbers using random"
   ]
  },
  {
   "cell_type": "code",
   "execution_count": 20,
   "id": "1cc89bfe",
   "metadata": {},
   "outputs": [],
   "source": [
    "uunique_parts = concat_df['Part_No'].unique().tolist()"
   ]
  },
  {
   "cell_type": "code",
   "execution_count": 21,
   "id": "fa2874df",
   "metadata": {},
   "outputs": [
    {
     "data": {
      "text/plain": [
       "393"
      ]
     },
     "execution_count": 21,
     "metadata": {},
     "output_type": "execute_result"
    }
   ],
   "source": [
    "len(uunique_parts)"
   ]
  },
  {
   "cell_type": "code",
   "execution_count": 22,
   "id": "a1193822",
   "metadata": {},
   "outputs": [],
   "source": [
    "new_ids = random.sample(range(1000, 10000), 393)\n"
   ]
  },
  {
   "cell_type": "code",
   "execution_count": 23,
   "id": "431a7dd8",
   "metadata": {},
   "outputs": [
    {
     "name": "stdout",
     "output_type": "stream",
     "text": [
      "[2406, 6446, 4831, 5043, 5216, 1521, 9351, 2257, 1758, 8491, 2125, 1254, 8918, 5754, 5807, 2210, 7718, 8643, 8817, 8159, 3314, 2645, 1585, 1049, 3969, 5342, 2734, 4189, 1401, 5139, 4271, 8092, 9951, 8060, 8093, 7385, 1479, 3987, 1353, 9070, 7861, 9164, 2998, 5741, 4156, 4225, 8281, 4475, 3287, 2677, 3229, 7421, 6395, 7361, 6138, 2577, 5162, 3395, 3416, 3766, 7447, 6736, 6141, 8052, 4432, 4678, 8682, 9651, 4406, 6881, 2079, 6504, 4948, 5831, 7052, 3503, 9232, 7008, 4295, 6724, 6160, 9370, 3709, 7224, 4076, 9703, 9684, 9394, 7653, 1687, 1774, 9712, 7157, 7539, 6811, 7727, 6558, 3045, 2422, 1841, 9294, 9769, 9564, 9454, 3331, 2715, 1749, 4610, 7722, 8036, 8374, 1432, 6929, 2548, 1998, 9334, 6715, 7391, 9825, 2627, 1277, 6634, 6962, 2716, 8312, 7460, 6731, 3294, 7230, 4857, 7312, 9376, 5009, 2791, 5261, 5389, 5160, 9075, 3087, 7305, 9470, 6659, 3948, 6623, 6158, 4482, 8623, 8672, 6291, 8308, 6899, 8365, 7679, 8387, 1346, 6370, 8842, 1324, 6414, 2132, 4802, 6688, 9706, 5382, 9500, 4103, 1619, 6159, 1321, 5600, 1777, 2457, 8007, 7879, 5992, 8239, 8723, 5649, 5171, 4179, 8043, 8771, 2160, 3613, 5946, 3866, 8203, 3120, 1263, 3786, 8887, 6750, 5255, 5089, 4079, 5654, 3617, 5835, 8825, 8078, 6727, 9010, 1911, 9368, 1601, 7536, 3851, 9978, 4248, 8762, 7167, 5080, 5213, 8455, 6838, 3295, 2905, 1515, 5640, 1144, 2230, 9577, 3852, 8486, 4275, 4846, 9967, 6601, 5870, 7804, 1470, 2875, 2876, 1111, 6531, 1701, 5631, 4656, 9904, 7150, 7631, 5766, 5435, 2418, 1354, 1827, 1988, 4950, 4361, 2778, 7769, 1522, 4530, 4525, 2819, 2641, 3743, 3170, 6117, 6953, 5317, 3376, 9749, 1775, 9762, 8172, 7046, 5369, 4132, 2012, 3694, 9359, 2378, 6898, 6544, 5097, 4174, 8612, 8948, 4561, 8584, 3720, 5329, 1456, 1196, 8126, 9779, 2024, 2572, 4507, 8001, 8716, 3607, 7292, 1947, 3274, 6411, 8922, 5146, 5275, 1011, 4355, 9277, 5712, 9046, 9074, 8153, 3695, 5632, 7734, 1928, 9834, 5573, 5956, 7057, 4686, 4333, 8215, 1255, 3654, 2025, 8713, 6857, 2275, 2134, 5743, 3462, 8555, 1110, 9937, 6282, 2999, 5166, 7395, 8888, 4390, 5802, 3707, 8662, 8718, 2365, 4993, 8006, 3591, 7994, 7754, 7914, 5519, 1187, 1807, 3385, 8430, 3088, 8782, 8891, 4207, 4587, 6330, 3779, 1188, 6966, 4951, 9642, 5854, 5665, 4245, 9683, 3368, 2770, 1983, 8966, 3958, 1120, 1996, 9939, 7151, 6051, 6699, 1971, 7786, 7963, 6610, 2805, 9517, 4974, 8546, 5568, 8490, 5334, 4618, 6978, 7555, 3841]\n"
     ]
    }
   ],
   "source": [
    "print(new_ids)"
   ]
  },
  {
   "cell_type": "code",
   "execution_count": 24,
   "id": "532704be",
   "metadata": {},
   "outputs": [],
   "source": [
    "new_ids = [str(num) for num in new_ids]\n",
    "# convert to string"
   ]
  },
  {
   "cell_type": "code",
   "execution_count": 25,
   "id": "132f48ab",
   "metadata": {},
   "outputs": [],
   "source": [
    "mapping_dict=dict(zip(uunique_parts,new_ids))"
   ]
  },
  {
   "cell_type": "code",
   "execution_count": 26,
   "id": "b1e0a01d",
   "metadata": {},
   "outputs": [
    {
     "name": "stdout",
     "output_type": "stream",
     "text": [
      "{'8710161': '2406', '5038945': '6446', '5037085': '4831', '5007058': '5043', '5005557': '5216', '8710124': '1521', '8710165': '9351', '8321030': '2257', '5038956': '1758', '5006352': '8491', '8710216': '2125', '5010300': '1254', '5000825': '8918', '5025011': '5754', '5032195': '5807', '8710102': '2210', '8710334': '7718', '5022425': '8643', '8710188': '8817', '8710160': '8159', '5023493': '3314', '5002383': '2645', '8710010': '1585', '5005267': '1049', '5001687': '3969', '5014545': '5342', '8710055': '2734', '5018840': '4189', '5010297': '1401', '5015095': '5139', '5039741': '4271', '5010284': '8092', '8710201': '9951', '5015075': '8060', '8710147': '8093', '8710281': '7385', '8710345': '1479', '5010519': '3987', '8710197': '1353', '5011164': '9070', '8710029': '7861', '5028752': '9164', '8710234': '2998', '8710115': '5741', '5023377': '4156', '8710305': '4225', '5010515': '8281', '5031771': '4475', '5021135': '3287', '5021673': '2677', '5034370': '3229', '5023429': '7421', '5032259': '6395', '8710196': '7361', '5001551': '6138', '8710210': '2577', '5009086': '5162', '5026213': '3395', '5012831': '3416', '5028709': '3766', '5002403': '7447', '8710122': '6736', '5032516': '6141', '5035643': '8052', '5029090': '4432', '5014096': '4678', '8710081': '8682', '5025383': '9651', '5021136': '4406', '5000037': '6881', '5010285': '2079', '5016347': '6504', '5002217': '4948', '5039699': '5831', '5025374': '7052', '5005575': '3503', '5014124': '9232', '8710071': '7008', '8710136': '4295', '5000036': '6724', '8710288': '6160', '5009218': '9370', '5042738': '3709', '5040409': '7224', '5007512': '4076', '5008992': '9703', 'HF35386': '9684', '5031204': '9394', '5029111': '7653', '5023428': '1687', '8710200': '1774', '5024791': '9712', '5043443': '7157', '5042426': '7539', '8710125': '6811', '5022974': '7727', '5038738': '6558', '8710328': '3045', '5024026': '2422', '8710137': '1841', '5000548': '9294', '5032212': '9769', '5023395': '9564', '5027748': '9454', '8710100': '3331', '8710215': '2715', '8710244': '1749', '8710300': '4610', '5010780': '7722', '5034847': '8036', '5042235': '8374', '5035883': '1432', '8710056': '6929', '8710301': '2548', '8710227': '1998', '8710202': '9334', '8710072': '6715', '5016206': '7391', '5028705': '9825', '5006663': '2627', '5001370': '1277', '5028753': '6634', '5008867': '6962', '5026608': '2716', '5029772': '8312', '5006284': '7460', '5011154': '6731', '5010101': '3294', '8710246': '7230', '5029755': '4857', '5029761': '7312', '5007644': '9376', '5038478': '5009', '5016734': '2791', '5035900': '5261', 'FH21402': '5389', '5041887': '5160', '5004916': '9075', '5009219': '3087', '8710019': '7305', '5043426': '9470', '8710330': '6659', '5030896': '3948', '5015096': '6623', '5039701': '6158', '5039959': '4482', '5003962': '8623', '8710312': '8672', '8710062': '6291', '5000547': '8308', '5032252': '6899', '8710214': '8365', '8710050': '7679', '5031614': '8387', '5027783': '1346', '5010579': '6370', '5000365': '8842', '5039700': '1324', '5039051': '6414', '5030541': '2132', '5040092': '4802', '5007194': '6688', '5027767': '9706', '5021674': '5382', '5019745': '9500', '5002704': '4103', 8321030: '1619', 8710081: '6159', 5025011: '1321', 5038945: '5600', 5010515: '1777', 5000547: '2457', 5005267: '8007', 5038956: '7879', 5014545: '5992', 5032195: '8239', 5040409: '8723', 8710124: '5649', 5006352: '5171', 5010300: '4179', 5006663: '8043', 8710345: '8771', 5031771: '2160', 5000037: '3613', 8710165: '5946', 5025383: '3866', 5039741: '8203', 5037085: '3120', 5002383: '1263', 8710102: '3786', 5035643: '8887', 5028753: '6750', 5015096: '5255', 5018840: '5089', 8710161: '4079', 8710147: '5654', 5001687: '3617', 5021135: '5835', 5032516: '8825', 5014096: '8078', 8710055: '6727', 8710196: '9010', 5003962: '1911', 8710072: '9368', 5028752: '1601', 8710160: '7536', 5010284: '3851', 5001551: '9978', 5000036: '4248', 8710246: '8762', 5011154: '7167', 5023493: '5080', 5027748: '5213', 5012831: '8455', 5043941: '6838', 8710159: '3295', 5010297: '2905', 8710115: '1515', 8710071: '5640', 5000825: '1144', 8710300: '2230', 5015095: '9577', 5022974: '3852', 5028709: '8486', 8710210: '4275', 5021136: '4846', 5024791: '9967', 5027182: '6601', 8710136: '5870', 5025374: '7804', 5010519: '1470', 5023428: '2875', 5000548: '2876', 8710201: '1111', 5004916: '6531', 5021674: '1701', 5023377: '5631', 5029772: '4656', 5029755: '9904', 8710016: '7150', 8710056: '7631', 5028157: '5766', 5010101: '5435', 8710215: '2418', 5007512: '1354', 5010579: '1827', 5030896: '1988', 5008867: '4950', 5040101: '4361', 5009219: '2778', 8710169: '7769', 8710301: '1522', 5032259: '4530', 5011164: '4525', 5020315: '2819', 5032212: '2641', 5023395: '3743', 5016347: '3170', 8710202: '6117', 8710189: '6953', 8710243: '5317', 8710216: '3376', 5014095: '9749', 8710125: '1775', 8710328: '9762', 8710288: '8172', 5029090: '7046', 8710334: '5369', 5005557: '4132', 5007644: '2012', 8710188: '3694', 8710029: '9359', 5040092: '2378', 5026214: '6898', 5026608: '6544', 5010285: '5097', 8710010: '4174', 5043408: '8612', 5044424: '8948', 5029147: '4561', 5007194: '8584', '8710118': '3720', '8710121': '5329', '8710119': '1456', '8710158': '1196', '8710169': '8126', '8710061': '9779', '8710335': '2024', '8710016': '2572', '6001916': '4507', '5022893': '8001', '5035979': '8716', '5027204': '3607', '5001776': '7292', '5016028': '1947', '5043941': '3274', '5000213': '6411', '5009248': '8922', '8710101': '5146', '5028157': '5275', 'FH21708': '1011', '8710159': '4355', '5022976': '9277', '5045214': '5712', '5026214': '9046', '5000652': '9074', '5044508': '8153', 5039701: '3695', 5027783: '5632', 8710137: '7734', 5045245: '1928', 5045280: '9834', 5009086: '5573', 5029761: '5956', 5039700: '7057', 5043694: '4686', 5004653: '4333', 5045429: '8215', 5000365: '1255', 5045460: '3654', 8710233: '2025', 5031204: '8713', 8710122: '6857', 5030779: '2275', 8710335: '2134', 5010780: '5743', 5025187: '3462', 5022425: '8555', 8710330: '1110', 5024026: '9937', 8710305: '6282', 8710227: '2999', 5007674: '5166', 5021673: '7395', 5038738: '8888', 5016733: '4390', 5015427: '5802', 8710121: '3707', 5019745: '8662', 5002217: '8718', 5000181: '2365', 5006048: '4993', 8710101: '8006', '5010332': '3591', '5004653': '7994', '5000361': '7754', '5028850': '7914', '5031052': '5519', '5018748': '1187', '5010580': '1807', '5006048': '3385', '5040101': '8430', '5025187': '3088', '5016733': '8782', 'FH23094': '8891', 'FH23093': '4207', 'FH23087': '4587', 'FH23088': '6330', 'FH23089': '3779', '5027749': '1188', '5045474': '6966', 'FH23091': '4951', '5035738': '9642', '8710347': '5854', 'FH23092': '5665', 'FH23090': '4245', '5046189': '9683', '5029147': '3368', '5041394': '2770', 'FH23095': '1983', '5037506': '8966', '5043395': '3958', '5045429': '1120', '8710011': '1996', '5045460': '9939', '5007673': '7151', '8710075': '6051', '5018691': '6699', '5032517': '1971', '5000366': '7786', '5015427': '7963', '5045373': '6610', '5043694': '2805', '5024341': '9517', '5006988': '4974', '8710063': '8546', '8710080': '5568', '5047485': '8490', '5047484': '5334', '5047581': '4618', '5044121': '6978', '8710031': '7555', '5032260': '3841'}\n"
     ]
    }
   ],
   "source": [
    "print(mapping_dict)"
   ]
  },
  {
   "cell_type": "code",
   "execution_count": 27,
   "id": "da64e68e",
   "metadata": {},
   "outputs": [],
   "source": [
    "concat_df['Part_No'] = concat_df['Part_No'].map(mapping_dict)"
   ]
  },
  {
   "cell_type": "code",
   "execution_count": 28,
   "id": "ef8dcc1a",
   "metadata": {},
   "outputs": [
    {
     "name": "stdout",
     "output_type": "stream",
     "text": [
      "393\n"
     ]
    }
   ],
   "source": [
    "print(concat_df['Part_No'].nunique()) "
   ]
  },
  {
   "cell_type": "markdown",
   "id": "bb1142c6",
   "metadata": {},
   "source": [
    "##### 🔷 Changing data types "
   ]
  },
  {
   "cell_type": "code",
   "execution_count": 29,
   "id": "24b8b572",
   "metadata": {},
   "outputs": [
    {
     "data": {
      "text/plain": [
       "Date              object\n",
       "Shift             object\n",
       "Part_No           object\n",
       "Production         int64\n",
       "Dent_Defect      float64\n",
       "Paint_Defect     float64\n",
       "Screen Defect     object\n",
       "Seam_leak        float64\n",
       "Crimp_leak       float64\n",
       "Casting_leak     float64\n",
       "dtype: object"
      ]
     },
     "execution_count": 29,
     "metadata": {},
     "output_type": "execute_result"
    }
   ],
   "source": [
    "concat_df.dtypes"
   ]
  },
  {
   "cell_type": "code",
   "execution_count": 30,
   "id": "3be0a73d",
   "metadata": {},
   "outputs": [
    {
     "data": {
      "text/plain": [
       "array([nan, 1.0, 2.0, 4.0, 6.0, 3.0, 11.0, 5.0, 10.0, 21.0, 8.0, 20.0,\n",
       "       22.0, 12.0, 7.0, 15.0, 13.0, 9.0, '1', '2', '  ', '3', '4', '5',\n",
       "       '6', '7', ' ', '13', '9', '8'], dtype=object)"
      ]
     },
     "execution_count": 30,
     "metadata": {},
     "output_type": "execute_result"
    }
   ],
   "source": [
    "concat_df['Screen Defect'].unique()"
   ]
  },
  {
   "cell_type": "code",
   "execution_count": 31,
   "id": "f190ac06",
   "metadata": {},
   "outputs": [
    {
     "name": "stdout",
     "output_type": "stream",
     "text": [
      "Index(['Dent_Defect', 'Paint_Defect', 'Screen Defect', 'Seam_leak',\n",
      "       'Crimp_leak', 'Casting_leak'],\n",
      "      dtype='object')\n"
     ]
    }
   ],
   "source": [
    "dtype_change_clm = concat_df.columns[4:]\n",
    "print(dtype_change_clm)"
   ]
  },
  {
   "cell_type": "code",
   "execution_count": 32,
   "id": "01b9809d",
   "metadata": {},
   "outputs": [],
   "source": [
    "concat_df[dtype_change_clm] = concat_df[dtype_change_clm]\\\n",
    "    .replace(r'^\\s*$', 0, regex=True)\\\n",
    "    .fillna(0)\\\n",
    "    .apply(pd.to_numeric, errors='coerce')\\\n",
    "    .fillna(0)\\\n",
    "    .astype(int)\n"
   ]
  },
  {
   "cell_type": "code",
   "execution_count": 33,
   "id": "5447d3ad",
   "metadata": {},
   "outputs": [],
   "source": [
    "concat_df[['Shift','Part_No']]=concat_df[['Shift','Part_No']].astype('string')"
   ]
  },
  {
   "cell_type": "code",
   "execution_count": 57,
   "id": "9c271073",
   "metadata": {},
   "outputs": [
    {
     "name": "stdout",
     "output_type": "stream",
     "text": [
      "<class 'pandas.core.frame.DataFrame'>\n",
      "RangeIndex: 6394 entries, 0 to 6393\n",
      "Data columns (total 10 columns):\n",
      " #   Column         Non-Null Count  Dtype         \n",
      "---  ------         --------------  -----         \n",
      " 0   Date           6394 non-null   datetime64[ns]\n",
      " 1   Shift          6394 non-null   string        \n",
      " 2   Part_No        6394 non-null   string        \n",
      " 3   Production     6394 non-null   int64         \n",
      " 4   Dent_Defect    6394 non-null   int64         \n",
      " 5   Paint_Defect   6394 non-null   int64         \n",
      " 6   Screen Defect  6394 non-null   int64         \n",
      " 7   Seam_leak      6394 non-null   int64         \n",
      " 8   Crimp_leak     6394 non-null   int64         \n",
      " 9   Casting_leak   6394 non-null   int64         \n",
      "dtypes: datetime64[ns](1), int64(7), string(2)\n",
      "memory usage: 499.7 KB\n"
     ]
    }
   ],
   "source": [
    "concat_df.info()"
   ]
  },
  {
   "cell_type": "code",
   "execution_count": null,
   "id": "e4bc6f6f",
   "metadata": {},
   "outputs": [],
   "source": [
    "concat_df['Date']= pd.to_datetime(concat_df['Date'], format='mixed', dayfirst=True)\n",
    "#if the date formats are inconsistent, you can tell pandas to infer them with dayfirst=True"
   ]
  },
  {
   "cell_type": "code",
   "execution_count": null,
   "id": "0d765326",
   "metadata": {},
   "outputs": [],
   "source": [
    "# concat_df.to_csv(rf'{path}\\concatall.csv',index=False)"
   ]
  },
  {
   "cell_type": "markdown",
   "id": "33a7c1d7",
   "metadata": {},
   "source": []
  }
 ],
 "metadata": {
  "kernelspec": {
   "display_name": "Python 3",
   "language": "python",
   "name": "python3"
  },
  "language_info": {
   "codemirror_mode": {
    "name": "ipython",
    "version": 3
   },
   "file_extension": ".py",
   "mimetype": "text/x-python",
   "name": "python",
   "nbconvert_exporter": "python",
   "pygments_lexer": "ipython3",
   "version": "3.13.7"
  }
 },
 "nbformat": 4,
 "nbformat_minor": 5
}
